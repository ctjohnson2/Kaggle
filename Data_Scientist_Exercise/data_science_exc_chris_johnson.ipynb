{
 "cells": [
  {
   "cell_type": "markdown",
   "id": "510d1587",
   "metadata": {},
   "source": [
    "# Lung Cancer Data"
   ]
  },
  {
   "cell_type": "markdown",
   "id": "26aa93cc",
   "metadata": {},
   "source": [
    "## Data cleaning"
   ]
  },
  {
   "cell_type": "markdown",
   "id": "dcb8c19e",
   "metadata": {},
   "source": [
    "In this section I will clean up some of the obvious missing data as well as taking a quick peak at the two data sets."
   ]
  },
  {
   "cell_type": "code",
   "execution_count": 636,
   "id": "4fd61a8c",
   "metadata": {},
   "outputs": [],
   "source": [
    "import pandas as pd\n",
    "import numpy as np\n",
    "import matplotlib.pyplot as plt\n",
    "import seaborn as sns\n",
    "from numpy.random import choice\n",
    "from sklearn.preprocessing import OneHotEncoder,OrdinalEncoder\n",
    "from sklearn.pipeline import Pipeline\n",
    "from sklearn.preprocessing import StandardScaler\n",
    "from sklearn.compose import ColumnTransformer\n",
    "from sklearn.model_selection import GridSearchCV, StratifiedShuffleSplit,train_test_split, cross_val_score\n",
    "from sklearn.metrics import f1_score,accuracy_score, precision_score, recall_score, confusion_matrix,precision_recall_curve, roc_curve, roc_auc_score\n"
   ]
  },
  {
   "cell_type": "code",
   "execution_count": 637,
   "id": "c75b82c5",
   "metadata": {},
   "outputs": [],
   "source": [
    "clinical = pd.read_csv(\"clinical.csv\")\n",
    "genomics = pd.read_csv(\"genomics.csv\")"
   ]
  },
  {
   "cell_type": "code",
   "execution_count": 638,
   "id": "93c1ef5f",
   "metadata": {},
   "outputs": [
    {
     "name": "stdout",
     "output_type": "stream",
     "text": [
      "<class 'pandas.core.frame.DataFrame'>\n",
      "RangeIndex: 190 entries, 0 to 189\n",
      "Data columns (total 16 columns):\n",
      " #   Column             Non-Null Count  Dtype  \n",
      "---  ------             --------------  -----  \n",
      " 0   ID                 190 non-null    int64  \n",
      " 1   Outcome            190 non-null    object \n",
      " 2   Survival.Months    190 non-null    float64\n",
      " 3   Age                190 non-null    int64  \n",
      " 4   Grade              190 non-null    int64  \n",
      " 5   Num.Primaries      190 non-null    int64  \n",
      " 6   T                  190 non-null    object \n",
      " 7   N                  125 non-null    float64\n",
      " 8   M                  94 non-null     float64\n",
      " 9   Radiation          190 non-null    int64  \n",
      " 10  Stage              190 non-null    object \n",
      " 11  Primary.Site       190 non-null    object \n",
      " 12  Histology          190 non-null    object \n",
      " 13  Tumor.Size         98 non-null     float64\n",
      " 14  Num.Mutated.Genes  190 non-null    int64  \n",
      " 15  Num.Mutations      190 non-null    int64  \n",
      "dtypes: float64(4), int64(7), object(5)\n",
      "memory usage: 23.9+ KB\n"
     ]
    }
   ],
   "source": [
    "clinical.info()"
   ]
  },
  {
   "cell_type": "code",
   "execution_count": 639,
   "id": "b613c4e6",
   "metadata": {},
   "outputs": [
    {
     "name": "stdout",
     "output_type": "stream",
     "text": [
      "<class 'pandas.core.frame.DataFrame'>\n",
      "RangeIndex: 510 entries, 0 to 509\n",
      "Data columns (total 2 columns):\n",
      " #   Column  Non-Null Count  Dtype \n",
      "---  ------  --------------  ----- \n",
      " 0   ID      510 non-null    int64 \n",
      " 1   Gene    510 non-null    object\n",
      "dtypes: int64(1), object(1)\n",
      "memory usage: 8.1+ KB\n"
     ]
    }
   ],
   "source": [
    "genomics.info()"
   ]
  },
  {
   "cell_type": "code",
   "execution_count": 640,
   "id": "4a211788",
   "metadata": {},
   "outputs": [
    {
     "data": {
      "text/plain": [
       "ID                    0\n",
       "Outcome               0\n",
       "Survival.Months       0\n",
       "Age                   0\n",
       "Grade                 0\n",
       "Num.Primaries         0\n",
       "T                     0\n",
       "N                    65\n",
       "M                    96\n",
       "Radiation             0\n",
       "Stage                 0\n",
       "Primary.Site          0\n",
       "Histology             0\n",
       "Tumor.Size           92\n",
       "Num.Mutated.Genes     0\n",
       "Num.Mutations         0\n",
       "dtype: int64"
      ]
     },
     "execution_count": 640,
     "metadata": {},
     "output_type": "execute_result"
    }
   ],
   "source": [
    "clinical.isnull().sum()"
   ]
  },
  {
   "cell_type": "markdown",
   "id": "63b3830f",
   "metadata": {},
   "source": [
    "There appears to be 3 columns in the clinical data set with missing values; number of metastasis to lymph nodes \"N\", number of metastases \"M\", and Tumor size "
   ]
  },
  {
   "cell_type": "code",
   "execution_count": 641,
   "id": "b77c5a69",
   "metadata": {},
   "outputs": [
    {
     "data": {
      "text/plain": [
       "2.0    0.464\n",
       "0.0    0.416\n",
       "1.0    0.072\n",
       "3.0    0.048\n",
       "Name: N, dtype: float64"
      ]
     },
     "execution_count": 641,
     "metadata": {},
     "output_type": "execute_result"
    }
   ],
   "source": [
    "clinical[\"N\"].value_counts(normalize=True)"
   ]
  },
  {
   "cell_type": "markdown",
   "id": "00e9eaf6",
   "metadata": {},
   "source": [
    "There are four possible vales for \"N\" 0,1,2,3 with almost all values are either 0 or 2. A quick choice would be to replace the missing values with a random choice of either 0 or 2, but first let's try and see if there is any correlation between \"N\" and the other data. "
   ]
  },
  {
   "cell_type": "code",
   "execution_count": 642,
   "id": "8e240684",
   "metadata": {},
   "outputs": [
    {
     "name": "stderr",
     "output_type": "stream",
     "text": [
      "/var/folders/zh/dvg4994d0_v8dpj_6tb0y44r0000gn/T/ipykernel_69187/2781252754.py:3: DeprecationWarning: `np.bool` is a deprecated alias for the builtin `bool`. To silence this warning, use `bool` by itself. Doing this will not modify any behavior and is safe. If you specifically wanted the numpy scalar type, use `np.bool_` here.\n",
      "Deprecated in NumPy 1.20; for more details and guidance: https://numpy.org/devdocs/release/1.20.0-notes.html#deprecations\n",
      "  sns.heatmap(corr, mask=np.zeros_like(corr, dtype=np.bool), cmap=sns.diverging_palette(220, 10, as_cmap=True),\n"
     ]
    },
    {
     "data": {
      "text/plain": [
       "<AxesSubplot:>"
      ]
     },
     "execution_count": 642,
     "metadata": {},
     "output_type": "execute_result"
    },
    {
     "data": {
      "image/png": "[encoded data removed]",
      "text/plain": [
       "<Figure size 720x576 with 2 Axes>"
      ]
     },
     "metadata": {
      "needs_background": "light"
     },
     "output_type": "display_data"
    }
   ],
   "source": [
    "f, ax = plt.subplots(figsize=(10, 8))\n",
    "corr = clinical.corr()\n",
    "sns.heatmap(corr, mask=np.zeros_like(corr, dtype=np.bool), cmap=sns.diverging_palette(220, 10, as_cmap=True),\n",
    "            square=True, ax=ax)"
   ]
  },
  {
   "cell_type": "markdown",
   "id": "7238552a",
   "metadata": {},
   "source": [
    "Largely uncorrelated with the exception of number of mutated genes vs number of mutations in tumor."
   ]
  },
  {
   "cell_type": "code",
   "execution_count": 643,
   "id": "85b3a63d",
   "metadata": {},
   "outputs": [],
   "source": [
    "clinical_copy = clinical.copy()"
   ]
  },
  {
   "cell_type": "code",
   "execution_count": 644,
   "id": "9fc24ec3",
   "metadata": {},
   "outputs": [
    {
     "name": "stderr",
     "output_type": "stream",
     "text": [
      "/var/folders/zh/dvg4994d0_v8dpj_6tb0y44r0000gn/T/ipykernel_69187/768276878.py:7: SettingWithCopyWarning: \n",
      "A value is trying to be set on a copy of a slice from a DataFrame\n",
      "\n",
      "See the caveats in the documentation: https://pandas.pydata.org/pandas-docs/stable/user_guide/indexing.html#returning-a-view-versus-a-copy\n",
      "  clinical_copy[\"N\"].loc[i] = ran[c]\n"
     ]
    }
   ],
   "source": [
    "#clinical_copy[\"N\"]=clinical_copy[\"N\"].fillna(value= random.randint(0,2))\n",
    "l=[0.0,1.0,2.0,3.0]\n",
    "ran = choice(l,65, p=[0.416, 0.072,0.464,0.048])\n",
    "c=0\n",
    "for i in range(len(clinical_copy[\"N\"])):\n",
    "    if float(clinical_copy[\"N\"].loc[i]) not in [0.0,1.0,2.0,3.0]:\n",
    "        clinical_copy[\"N\"].loc[i] = ran[c]\n",
    "        c+=1"
   ]
  },
  {
   "cell_type": "markdown",
   "id": "86bf059f",
   "metadata": {},
   "source": [
    "Quick check to see how the new \"filled in\" data appears."
   ]
  },
  {
   "cell_type": "code",
   "execution_count": 645,
   "id": "e9e00653",
   "metadata": {},
   "outputs": [
    {
     "data": {
      "text/plain": [
       "2.0    91\n",
       "0.0    75\n",
       "1.0    12\n",
       "3.0    12\n",
       "Name: N, dtype: int64"
      ]
     },
     "execution_count": 645,
     "metadata": {},
     "output_type": "execute_result"
    }
   ],
   "source": [
    "clinical_copy[\"N\"].value_counts()"
   ]
  },
  {
   "cell_type": "markdown",
   "id": "cd4f1a44",
   "metadata": {},
   "source": [
    "Another decision to consider is to replace the missing values with another index not included in \"N\" like -1 or 4, but I will carry on using random values chosen according to their existing probabilities, and repeat the same process with \"M\"."
   ]
  },
  {
   "cell_type": "code",
   "execution_count": 646,
   "id": "4daaf64c",
   "metadata": {},
   "outputs": [
    {
     "data": {
      "text/plain": [
       "0.0    0.914894\n",
       "1.0    0.085106\n",
       "Name: M, dtype: float64"
      ]
     },
     "execution_count": 646,
     "metadata": {},
     "output_type": "execute_result"
    }
   ],
   "source": [
    "clinical[\"M\"].value_counts(normalize=True)"
   ]
  },
  {
   "cell_type": "code",
   "execution_count": 647,
   "id": "56e161de",
   "metadata": {},
   "outputs": [
    {
     "name": "stderr",
     "output_type": "stream",
     "text": [
      "/var/folders/zh/dvg4994d0_v8dpj_6tb0y44r0000gn/T/ipykernel_69187/1527952144.py:6: SettingWithCopyWarning: \n",
      "A value is trying to be set on a copy of a slice from a DataFrame\n",
      "\n",
      "See the caveats in the documentation: https://pandas.pydata.org/pandas-docs/stable/user_guide/indexing.html#returning-a-view-versus-a-copy\n",
      "  clinical_copy[\"M\"].loc[i] = ran[c]\n"
     ]
    }
   ],
   "source": [
    "l=[0.0,1.0]\n",
    "ran = choice(l,96, p=[0.914894, 0.085106])\n",
    "c=0\n",
    "for i in range(len(clinical_copy[\"M\"])):\n",
    "    if clinical_copy[\"M\"].loc[i] not in [0.0,1.0]:\n",
    "        clinical_copy[\"M\"].loc[i] = ran[c]\n",
    "        c+=1"
   ]
  },
  {
   "cell_type": "code",
   "execution_count": 648,
   "id": "0c6bc65b",
   "metadata": {},
   "outputs": [
    {
     "data": {
      "text/plain": [
       "0.0    174\n",
       "1.0     16\n",
       "Name: M, dtype: int64"
      ]
     },
     "execution_count": 648,
     "metadata": {},
     "output_type": "execute_result"
    }
   ],
   "source": [
    "clinical_copy[\"M\"].value_counts()"
   ]
  },
  {
   "cell_type": "code",
   "execution_count": 649,
   "id": "3d94f94f",
   "metadata": {},
   "outputs": [
    {
     "data": {
      "text/plain": [
       "2.0     20\n",
       "1.5     13\n",
       "9.0     10\n",
       "3.6      9\n",
       "10.0     8\n",
       "4.0      7\n",
       "5.5      6\n",
       "8.5      6\n",
       "3.5      2\n",
       "5.4      2\n",
       "5.3      2\n",
       "2.5      2\n",
       "1.4      2\n",
       "8.0      2\n",
       "1.8      2\n",
       "1.9      2\n",
       "4.4      1\n",
       "1.6      1\n",
       "1.0      1\n",
       "Name: Tumor.Size, dtype: int64"
      ]
     },
     "execution_count": 649,
     "metadata": {},
     "output_type": "execute_result"
    }
   ],
   "source": [
    "clinical[\"Tumor.Size\"].value_counts()"
   ]
  },
  {
   "cell_type": "markdown",
   "id": "5916a9a7",
   "metadata": {},
   "source": [
    "Here one might be enticed to replace with the median 3.6 which could be a reasonable choice, but numbers 3-4 only make 11 of the total entries so I will continue with the random sampling according to their existing distributions."
   ]
  },
  {
   "cell_type": "code",
   "execution_count": 654,
   "id": "6eaa7eee",
   "metadata": {},
   "outputs": [
    {
     "name": "stdout",
     "output_type": "stream",
     "text": [
      "Median 3.6\n",
      "Total tumor size x such that 3 < x <  4 :  11\n"
     ]
    }
   ],
   "source": [
    "print(\"Median\",clinical[\"Tumor.Size\"].median())\n",
    "col = \"Tumor.Size\"\n",
    "print(\"Total tumor size x such that 3 < x <  4 : \",len(clinical[(clinical[col] <4 ) & (clinical[col] > 3)]))"
   ]
  },
  {
   "cell_type": "code",
   "execution_count": 655,
   "id": "d581a955",
   "metadata": {},
   "outputs": [],
   "source": [
    "probs = list(clinical[\"Tumor.Size\"].value_counts(normalize=True))"
   ]
  },
  {
   "cell_type": "code",
   "execution_count": 656,
   "id": "acce07e9",
   "metadata": {},
   "outputs": [],
   "source": [
    "size_vals =[2.0,1.5,9.0,3.6,10.0,4.0,5.5,8.5,3.5,5.4,5.3,2.5,1.4,8.0,1.8,1.9,4.4,1.6,1.0]"
   ]
  },
  {
   "cell_type": "code",
   "execution_count": 657,
   "id": "ead0daf6",
   "metadata": {},
   "outputs": [
    {
     "name": "stderr",
     "output_type": "stream",
     "text": [
      "/var/folders/zh/dvg4994d0_v8dpj_6tb0y44r0000gn/T/ipykernel_69187/476532261.py:6: SettingWithCopyWarning: \n",
      "A value is trying to be set on a copy of a slice from a DataFrame\n",
      "\n",
      "See the caveats in the documentation: https://pandas.pydata.org/pandas-docs/stable/user_guide/indexing.html#returning-a-view-versus-a-copy\n",
      "  clinical_copy[\"Tumor.Size\"].loc[i] = ran[c]\n"
     ]
    }
   ],
   "source": [
    "l=size_vals\n",
    "ran = choice(l,92, p=probs)\n",
    "c=0\n",
    "for i in range(len(clinical_copy[\"Tumor.Size\"])):\n",
    "    if clinical_copy[\"Tumor.Size\"].loc[i] not in size_vals:\n",
    "        clinical_copy[\"Tumor.Size\"].loc[i] = ran[c]\n",
    "        c+=1"
   ]
  },
  {
   "cell_type": "markdown",
   "id": "0db98fa3",
   "metadata": {},
   "source": [
    "One final nan check."
   ]
  },
  {
   "cell_type": "code",
   "execution_count": 658,
   "id": "99d1b714",
   "metadata": {},
   "outputs": [
    {
     "data": {
      "text/plain": [
       "ID                   0\n",
       "Outcome              0\n",
       "Survival.Months      0\n",
       "Age                  0\n",
       "Grade                0\n",
       "Num.Primaries        0\n",
       "T                    0\n",
       "N                    0\n",
       "M                    0\n",
       "Radiation            0\n",
       "Stage                0\n",
       "Primary.Site         0\n",
       "Histology            0\n",
       "Tumor.Size           0\n",
       "Num.Mutated.Genes    0\n",
       "Num.Mutations        0\n",
       "dtype: int64"
      ]
     },
     "execution_count": 658,
     "metadata": {},
     "output_type": "execute_result"
    }
   ],
   "source": [
    "clinical_copy.isnull().sum()"
   ]
  },
  {
   "cell_type": "markdown",
   "id": "e5867b3e",
   "metadata": {},
   "source": [
    "## Data trends"
   ]
  },
  {
   "cell_type": "markdown",
   "id": "e8479ace",
   "metadata": {},
   "source": [
    "In the previous section we did some quick naive cleaning according to distributions of the values that were present in the columns. That will be kept separate for now in \"clinical_copy\" and I will look at the raw data in this section. First we will look at the different columns against the survival result."
   ]
  },
  {
   "cell_type": "code",
   "execution_count": 120,
   "id": "a3af8379",
   "metadata": {},
   "outputs": [
    {
     "data": {
      "text/plain": [
       "Dead     0.789474\n",
       "Alive    0.210526\n",
       "Name: Outcome, dtype: float64"
      ]
     },
     "execution_count": 120,
     "metadata": {},
     "output_type": "execute_result"
    }
   ],
   "source": [
    "clinical[\"Outcome\"].value_counts(normalize=True)"
   ]
  },
  {
   "cell_type": "markdown",
   "id": "8b905f8e",
   "metadata": {},
   "source": [
    "We see above there is approximately 4:1 dead to survivor ratio in the data (I will sample accordingly when I separate the data into training and test sets). Below I will show the relative distributions of the average survival months and average age with respect to the deceased patients and the survivors, and we see the means and standard deviations are relatively compatible."
   ]
  },
  {
   "cell_type": "code",
   "execution_count": 190,
   "id": "aa5a4db2",
   "metadata": {},
   "outputs": [
    {
     "data": {
      "image/png": "[encoded data removed]",
      "text/plain": [
       "<Figure size 1080x360 with 1 Axes>"
      ]
     },
     "metadata": {
      "needs_background": "light"
     },
     "output_type": "display_data"
    },
    {
     "data": {
      "image/png": "[encoded data removed]",
      "text/plain": [
       "<Figure size 1080x360 with 1 Axes>"
      ]
     },
     "metadata": {
      "needs_background": "light"
     },
     "output_type": "display_data"
    }
   ],
   "source": [
    "cols = [\"Survival.Months\",\"Age\"]\n",
    "for col in cols:\n",
    "    plt.title(col+\" average\")\n",
    "    plt.bar(clinical[\"Outcome\"].unique(),\n",
    "        [clinical[clinical.Outcome == \"Alive\"][col].mean(),\n",
    "         clinical[clinical.Outcome == \"Dead\"][col].mean()],\n",
    "       yerr =[clinical[clinical.Outcome == \"Alive\"][col].std(),\n",
    "         clinical[clinical.Outcome == \"Dead\"][col].std()])\n",
    "    plt.show()"
   ]
  },
  {
   "cell_type": "markdown",
   "id": "cf4504d5",
   "metadata": {},
   "source": [
    "Now I will go through the remaining columns separating the deceased from the survivors to see if there are any obvious trends in the data."
   ]
  },
  {
   "cell_type": "code",
   "execution_count": 124,
   "id": "598393ce",
   "metadata": {},
   "outputs": [
    {
     "data": {
      "text/plain": [
       "9    0.505263\n",
       "4    0.226316\n",
       "2    0.152632\n",
       "3    0.115789\n",
       "Name: Grade, dtype: float64"
      ]
     },
     "execution_count": 124,
     "metadata": {},
     "output_type": "execute_result"
    }
   ],
   "source": [
    "clinical[\"Grade\"].value_counts(normalize=True)"
   ]
  },
  {
   "cell_type": "code",
   "execution_count": 661,
   "id": "82174cf8",
   "metadata": {},
   "outputs": [
    {
     "data": {
      "image/png": "[encoded data removed]",
      "text/plain": [
       "<Figure size 1080x360 with 1 Axes>"
      ]
     },
     "metadata": {
      "needs_background": "light"
     },
     "output_type": "display_data"
    }
   ],
   "source": [
    "col = \"Grade\"\n",
    "\n",
    "plt.hist(clinical[clinical.Outcome == \"Alive\"][col],alpha=0.5,bins=range(2,10),align=\"mid\",label='Alive')\n",
    "plt.hist(clinical[clinical.Outcome == \"Dead\"][col],alpha=0.5,bins=range(2,10),align=\"mid\",label='Dead')\n",
    "plt.title(\"Alive vs Dead for tumor grade (9 unknown)\")\n",
    "plt.legend(loc='upper right')\n",
    "plt.ylabel(\"Number of people\")\n",
    "plt.xlabel(\"Grade\")\n",
    "plt.show()\n",
    "plt.rcParams['figure.figsize'] = [15, 5]"
   ]
  },
  {
   "cell_type": "code",
   "execution_count": 182,
   "id": "45eddecb",
   "metadata": {},
   "outputs": [
    {
     "name": "stdout",
     "output_type": "stream",
     "text": [
      "Ratio of alive/dead: 0.26666666666666666\n",
      "Ratio of alive/dead for val: 2.0 3.046875\n",
      "Ratio of alive/dead for val: 3.0 1.40625\n",
      "Ratio of alive/dead for val: 4.0 1.1363636363636365\n",
      "Ratio of alive/dead for val: 9.0 0.4852941176470589\n"
     ]
    }
   ],
   "source": [
    "ratio = len(clinical[clinical.Outcome == \"Alive\"])/len(clinical[clinical.Outcome == \"Dead\"])\n",
    "print(\"Ratio of alive/dead:\",ratio)\n",
    "for val in [2.0,3.0,4.0,9.0]:\n",
    "    \n",
    "    print(\"Ratio of alive/dead for val:\",val,len(clinical[(clinical.Grade==val) & (clinical.Outcome == \"Alive\")])/len(clinical[(clinical.Grade==val) & (clinical.Outcome == \"Dead\")])/ratio)\n"
   ]
  },
  {
   "cell_type": "markdown",
   "id": "f2b33317",
   "metadata": {},
   "source": [
    "Here I have the ratio's of alive/dead for each Grade normalized by the ratio alive/dead for the entire sample. Seems that Grade =2 has a significant deviation (about 3 times more likely survival) from the others given this data set."
   ]
  },
  {
   "cell_type": "code",
   "execution_count": 662,
   "id": "e89059f2",
   "metadata": {},
   "outputs": [],
   "source": [
    "def plot_hists(df,col):\n",
    "\n",
    "    plt.hist(df[df.Outcome == \"Alive\"][col],alpha=0.5,bins=range(len(list(df[col].unique()))+1),align=\"mid\",label='Alive')\n",
    "    plt.hist(df[df.Outcome == \"Dead\"][col],alpha=0.5,bins=range(len(list(df[col].unique()))+1),align=\"mid\",label='Dead')\n",
    "    plt.title(\"Alive vs Dead for \"+col)\n",
    "    plt.legend(loc='upper right')\n",
    "    plt.ylabel(\"Number of people\")\n",
    "    plt.xlabel(col)\n",
    "    plt.show()\n",
    "    plt.rcParams['figure.figsize'] = [15, 5]"
   ]
  },
  {
   "cell_type": "code",
   "execution_count": 237,
   "id": "3cf9deff",
   "metadata": {},
   "outputs": [
    {
     "data": {
      "image/png": "[encoded data removed]",
      "text/plain": [
       "<Figure size 1080x360 with 1 Axes>"
      ]
     },
     "metadata": {
      "needs_background": "light"
     },
     "output_type": "display_data"
    }
   ],
   "source": [
    "plot_hists(clinical,\"Primary.Site\")"
   ]
  },
  {
   "cell_type": "markdown",
   "id": "3a7519c4",
   "metadata": {},
   "source": [
    "Left lower lobe shows nice count of survival with left upper and right lower lobes not being bad. Right middle lobe and right upper lobe looks rare in general, with left and right Hilar appearing to be incredibly deadly. This column will likely be a good feature."
   ]
  },
  {
   "cell_type": "code",
   "execution_count": 180,
   "id": "fd934cce",
   "metadata": {},
   "outputs": [
    {
     "data": {
      "text/plain": [
       "Right Upper Lobe     0.278947\n",
       "Right Hilar          0.173684\n",
       "Left Hilar           0.163158\n",
       "Right Lower Lobe     0.131579\n",
       "Left Upper Lobe      0.110526\n",
       "Left Lower Lobe      0.089474\n",
       "Both Lung            0.026316\n",
       "Right Middle Lobe    0.015789\n",
       "Righ Upper Lobe      0.010526\n",
       "Name: Primary.Site, dtype: float64"
      ]
     },
     "execution_count": 180,
     "metadata": {},
     "output_type": "execute_result"
    }
   ],
   "source": [
    "clinical[\"Primary.Site\"].value_counts(normalize=True)"
   ]
  },
  {
   "cell_type": "code",
   "execution_count": 663,
   "id": "d958ab75",
   "metadata": {},
   "outputs": [
    {
     "data": {
      "image/png": "[encoded data removed]",
      "text/plain": [
       "<Figure size 1080x360 with 1 Axes>"
      ]
     },
     "metadata": {
      "needs_background": "light"
     },
     "output_type": "display_data"
    }
   ],
   "source": [
    "plot_hists(clinical,\"T\")"
   ]
  },
  {
   "cell_type": "code",
   "execution_count": 664,
   "id": "f2e875c3",
   "metadata": {},
   "outputs": [
    {
     "data": {
      "text/plain": [
       "UNK    0.326316\n",
       "3      0.200000\n",
       "1a     0.136842\n",
       "4      0.121053\n",
       "2a     0.084211\n",
       "2      0.063158\n",
       "2b     0.052632\n",
       "1b     0.010526\n",
       "1      0.005263\n",
       "Name: T, dtype: float64"
      ]
     },
     "execution_count": 664,
     "metadata": {},
     "output_type": "execute_result"
    }
   ],
   "source": [
    "clinical[\"T\"].value_counts(normalize=True)"
   ]
  },
  {
   "cell_type": "markdown",
   "id": "ec7172c8",
   "metadata": {},
   "source": [
    "It appears the tumor stage at 2a could be a good indicator of survival where as 4,2b,3 likely indicate dying."
   ]
  },
  {
   "cell_type": "code",
   "execution_count": 184,
   "id": "d6ea2db0",
   "metadata": {},
   "outputs": [
    {
     "data": {
      "text/plain": [
       "Adenocarcinoma             0.452632\n",
       "Squamous cell carcinoma    0.405263\n",
       "Large-cell carcinoma       0.142105\n",
       "Name: Histology, dtype: float64"
      ]
     },
     "execution_count": 184,
     "metadata": {},
     "output_type": "execute_result"
    }
   ],
   "source": [
    "clinical[\"Histology\"].value_counts(normalize=True)"
   ]
  },
  {
   "cell_type": "code",
   "execution_count": 238,
   "id": "0589b4d9",
   "metadata": {},
   "outputs": [
    {
     "data": {
      "image/png": "[encoded data removed]",
      "text/plain": [
       "<Figure size 1080x360 with 1 Axes>"
      ]
     },
     "metadata": {
      "needs_background": "light"
     },
     "output_type": "display_data"
    }
   ],
   "source": [
    "plot_hists(clinical,\"Histology\")"
   ]
  },
  {
   "cell_type": "markdown",
   "id": "76022390",
   "metadata": {},
   "source": [
    "It appears Squamous cell carcinoma has the best chance of survival."
   ]
  },
  {
   "cell_type": "code",
   "execution_count": 187,
   "id": "dae1cc11",
   "metadata": {},
   "outputs": [
    {
     "data": {
      "text/plain": [
       "IV      0.236842\n",
       "IIIA    0.226316\n",
       "IA      0.168421\n",
       "IVB     0.131579\n",
       "IIIB    0.126316\n",
       "IIB     0.057895\n",
       "IIA     0.042105\n",
       "IB      0.005263\n",
       "1B      0.005263\n",
       "Name: Stage, dtype: float64"
      ]
     },
     "execution_count": 187,
     "metadata": {},
     "output_type": "execute_result"
    }
   ],
   "source": [
    "clinical[\"Stage\"].value_counts(normalize=True)"
   ]
  },
  {
   "cell_type": "code",
   "execution_count": 239,
   "id": "fb871742",
   "metadata": {},
   "outputs": [
    {
     "data": {
      "image/png": "[encoded data removed]",
      "text/plain": [
       "<Figure size 1080x360 with 1 Axes>"
      ]
     },
     "metadata": {
      "needs_background": "light"
     },
     "output_type": "display_data"
    }
   ],
   "source": [
    "plot_hists(clinical,\"Stage\")"
   ]
  },
  {
   "cell_type": "code",
   "execution_count": 192,
   "id": "a94e33d0",
   "metadata": {},
   "outputs": [
    {
     "data": {
      "text/plain": [
       "0    0.773684\n",
       "1    0.226316\n",
       "Name: Num.Primaries, dtype: float64"
      ]
     },
     "execution_count": 192,
     "metadata": {},
     "output_type": "execute_result"
    }
   ],
   "source": [
    "clinical[\"Num.Primaries\"].value_counts(normalize=True)"
   ]
  },
  {
   "cell_type": "markdown",
   "id": "4d30d653",
   "metadata": {},
   "source": [
    "It appears stage IA have decent survival rates and IVB,IIA,IIB all appear to be completely terminal."
   ]
  },
  {
   "cell_type": "code",
   "execution_count": 240,
   "id": "1e628483",
   "metadata": {},
   "outputs": [
    {
     "data": {
      "image/png": "[encoded data removed]",
      "text/plain": [
       "<Figure size 1080x360 with 1 Axes>"
      ]
     },
     "metadata": {
      "needs_background": "light"
     },
     "output_type": "display_data"
    }
   ],
   "source": [
    "plot_hists(clinical,\"Num.Primaries\")"
   ]
  },
  {
   "cell_type": "markdown",
   "id": "ad4e1833",
   "metadata": {},
   "source": [
    "If the primary number is 1 there is a significant more chance of survival."
   ]
  },
  {
   "cell_type": "code",
   "execution_count": 196,
   "id": "5b3dbb7c",
   "metadata": {},
   "outputs": [
    {
     "data": {
      "text/plain": [
       "0      0\n",
       "1      5\n",
       "2      0\n",
       "3      0\n",
       "4      0\n",
       "      ..\n",
       "185    0\n",
       "186    0\n",
       "187    0\n",
       "188    0\n",
       "189    0\n",
       "Name: Radiation, Length: 190, dtype: int64"
      ]
     },
     "execution_count": 196,
     "metadata": {},
     "output_type": "execute_result"
    }
   ],
   "source": [
    "clinical[\"Radiation\"]"
   ]
  },
  {
   "cell_type": "code",
   "execution_count": 198,
   "id": "9178d8b6",
   "metadata": {},
   "outputs": [],
   "source": [
    "clinical[\"Radiation\"]=clinical[\"Radiation\"].replace(to_replace=5.0,value=1.0)"
   ]
  },
  {
   "cell_type": "code",
   "execution_count": 241,
   "id": "1aca9311",
   "metadata": {},
   "outputs": [
    {
     "data": {
      "image/png": "[encoded data removed]",
      "text/plain": [
       "<Figure size 1080x360 with 1 Axes>"
      ]
     },
     "metadata": {
      "needs_background": "light"
     },
     "output_type": "display_data"
    }
   ],
   "source": [
    "plot_hists(clinical,\"Radiation\")"
   ]
  },
  {
   "cell_type": "markdown",
   "id": "01aea217",
   "metadata": {},
   "source": [
    "Survival rate increases if radiation took place (changed \"5\" to \"1\")."
   ]
  },
  {
   "cell_type": "code",
   "execution_count": 201,
   "id": "448314fb",
   "metadata": {},
   "outputs": [
    {
     "data": {
      "text/plain": [
       "3    0.263158\n",
       "2    0.236842\n",
       "1    0.136842\n",
       "5    0.131579\n",
       "4    0.110526\n",
       "6    0.057895\n",
       "0    0.031579\n",
       "8    0.015789\n",
       "7    0.015789\n",
       "Name: Num.Mutations, dtype: float64"
      ]
     },
     "execution_count": 201,
     "metadata": {},
     "output_type": "execute_result"
    }
   ],
   "source": [
    "clinical[\"Num.Mutations\"].value_counts(normalize=True)"
   ]
  },
  {
   "cell_type": "code",
   "execution_count": 242,
   "id": "dc912ed1",
   "metadata": {},
   "outputs": [
    {
     "data": {
      "image/png": "[encoded data removed]",
      "text/plain": [
       "<Figure size 1080x360 with 1 Axes>"
      ]
     },
     "metadata": {
      "needs_background": "light"
     },
     "output_type": "display_data"
    }
   ],
   "source": [
    "plot_hists(clinical,\"Num.Mutations\")"
   ]
  },
  {
   "cell_type": "markdown",
   "id": "0487ca18",
   "metadata": {},
   "source": [
    "Semi-\"normal looking\" distribution."
   ]
  },
  {
   "cell_type": "code",
   "execution_count": 205,
   "id": "3eab5af0",
   "metadata": {},
   "outputs": [
    {
     "data": {
      "text/plain": [
       "3    0.289474\n",
       "2    0.278947\n",
       "1    0.173684\n",
       "4    0.110526\n",
       "5    0.078947\n",
       "0    0.031579\n",
       "6    0.021053\n",
       "8    0.010526\n",
       "7    0.005263\n",
       "Name: Num.Mutated.Genes, dtype: float64"
      ]
     },
     "execution_count": 205,
     "metadata": {},
     "output_type": "execute_result"
    }
   ],
   "source": [
    "clinical[\"Num.Mutated.Genes\"].value_counts(normalize=True)"
   ]
  },
  {
   "cell_type": "code",
   "execution_count": 243,
   "id": "de8fb63a",
   "metadata": {},
   "outputs": [
    {
     "data": {
      "image/png": "[encoded data removed]",
      "text/plain": [
       "<Figure size 1080x360 with 1 Axes>"
      ]
     },
     "metadata": {
      "needs_background": "light"
     },
     "output_type": "display_data"
    }
   ],
   "source": [
    "plot_hists(clinical,\"Num.Mutated.Genes\")"
   ]
  },
  {
   "cell_type": "code",
   "execution_count": 223,
   "id": "fe388517",
   "metadata": {},
   "outputs": [
    {
     "data": {
      "text/plain": [
       "TP53_Col1    0.229412\n",
       "KRAS_Col1    0.107843\n",
       "CDKN2A       0.088235\n",
       "TSC2         0.060784\n",
       "MSH2         0.058824\n",
       "STK11        0.045098\n",
       "APC          0.037255\n",
       "PIK3CB       0.021569\n",
       "TERT         0.019608\n",
       "NF_Col2      0.019608\n",
       "SMARCB1      0.017647\n",
       "MET          0.017647\n",
       "TP53_Col2    0.015686\n",
       "FBXW7        0.015686\n",
       "SMO          0.015686\n",
       "NF_Col3      0.013725\n",
       "GNAS         0.013725\n",
       "PIK3CA       0.013725\n",
       "MSH6         0.013725\n",
       "NTRK1        0.013725\n",
       "PTEN         0.013725\n",
       "EGFR         0.011765\n",
       "POLD_Col2    0.009804\n",
       "NF_Col1      0.009804\n",
       "PDGFRB       0.009804\n",
       "RB1          0.007843\n",
       "ATM_Col1     0.007843\n",
       "PTCH1        0.007843\n",
       "CTNNB1       0.007843\n",
       "FGFR1        0.007843\n",
       "NOTCH1       0.007843\n",
       "DNMT3A       0.005882\n",
       "CCND2        0.003922\n",
       "ALK_Col2     0.003922\n",
       "AKT1         0.003922\n",
       "NF_Col5      0.003922\n",
       "ERBB4        0.003922\n",
       "ALK_Col1     0.003922\n",
       "FOXL2        0.003922\n",
       "FLT4         0.003922\n",
       "FGFR3        0.003922\n",
       "MLH_Col2     0.001961\n",
       "MAP2K2       0.001961\n",
       "KRAS_Col2    0.001961\n",
       "HNF1A        0.001961\n",
       "SMARCA4      0.001961\n",
       "BRAF         0.001961\n",
       "ATM_Col2     0.001961\n",
       "ESR1         0.001961\n",
       "ERBB3        0.001961\n",
       "Name: Gene, dtype: float64"
      ]
     },
     "execution_count": 223,
     "metadata": {},
     "output_type": "execute_result"
    }
   ],
   "source": [
    "genomics[\"Gene\"].value_counts(normalize=True)"
   ]
  },
  {
   "cell_type": "code",
   "execution_count": 672,
   "id": "f5bab516",
   "metadata": {},
   "outputs": [
    {
     "data": {
      "image/png": "[encoded data removed]",
      "text/plain": [
       "<Figure size 1080x360 with 1 Axes>"
      ]
     },
     "metadata": {
      "needs_background": "light"
     },
     "output_type": "display_data"
    }
   ],
   "source": [
    "tmp =  pd.merge(clinical_copy,genomics,on=\"ID\",how=\"left\")\n",
    "df = tmp\n",
    "col = \"Gene\"\n",
    "df[df.Outcome == \"Dead\"][col].value_counts()\n",
    "plt.hist(df[df.Outcome == \"Alive\"][col],alpha=0.5,bins=range(len(list(df[col].unique()))+1),align=\"mid\",label='Alive')\n",
    "plt.hist(list(df[df.Outcome == \"Dead\"][col]),alpha=0.5,bins=range(len(list(df[col].unique()))+1),align=\"mid\",label='Dead')\n",
    "plt.title(\"Survival count for \"+col)\n",
    "plt.legend(loc='upper right')\n",
    "plt.xticks(rotation=90)\n",
    "plt.show()\n",
    "plt.rcParams['figure.figsize'] = [15, 5]"
   ]
  },
  {
   "cell_type": "markdown",
   "id": "c5af04ba",
   "metadata": {},
   "source": [
    "It appears gene type can be a good feature but we will have to decide how to implement it. Now I will transform the genomics data to create features that can join the clinical data set on the ID tag in a vectorized format. I will create a column for each gene listed and if the ID contains that gene it will receive a 1, and if the gene is not present it will receive a 0 (this will also naturally take care of the IDs that do not have a gene name in the table seen in the \"nan\" column above)."
   ]
  },
  {
   "cell_type": "code",
   "execution_count": 441,
   "id": "7692d45c",
   "metadata": {},
   "outputs": [],
   "source": [
    "gene_types = list(genomics[\"Gene\"].unique())\n",
    "columns = gene_types\n",
    "columns = [\"ID\"]\n",
    "columns+=gene_types\n",
    "df = pd.DataFrame(columns = columns)"
   ]
  },
  {
   "cell_type": "code",
   "execution_count": 665,
   "id": "f8ac643f",
   "metadata": {},
   "outputs": [],
   "source": [
    "#print(genomics[\"ID\"])\n",
    "total = []\n",
    "for i in range(1,191):\n",
    "    #df[\"ID\"] = \n",
    "    thing = [i]\n",
    "    for gene_ in gene_types:\n",
    "        if gene_ in list(genomics[genomics.ID==i][\"Gene\"]):\n",
    "            thing.append( 1)\n",
    "        else:\n",
    "            thing.append(0)\n",
    "    #print(thing)\n",
    "    total.append( thing )\n",
    "                "
   ]
  },
  {
   "cell_type": "code",
   "execution_count": 666,
   "id": "6264b6f9",
   "metadata": {},
   "outputs": [],
   "source": [
    "df = pd.DataFrame(total,columns = columns)"
   ]
  },
  {
   "cell_type": "code",
   "execution_count": 667,
   "id": "e804767e",
   "metadata": {},
   "outputs": [
    {
     "data": {
      "text/html": [
       "<div>\n",
       "<style scoped>\n",
       "    .dataframe tbody tr th:only-of-type {\n",
       "        vertical-align: middle;\n",
       "    }\n",
       "\n",
       "    .dataframe tbody tr th {\n",
       "        vertical-align: top;\n",
       "    }\n",
       "\n",
       "    .dataframe thead th {\n",
       "        text-align: right;\n",
       "    }\n",
       "</style>\n",
       "<table border=\"1\" class=\"dataframe\">\n",
       "  <thead>\n",
       "    <tr style=\"text-align: right;\">\n",
       "      <th></th>\n",
       "      <th>ID</th>\n",
       "      <th>AKT1</th>\n",
       "      <th>ALK_Col1</th>\n",
       "      <th>ALK_Col2</th>\n",
       "      <th>APC</th>\n",
       "      <th>ATM_Col1</th>\n",
       "      <th>ATM_Col2</th>\n",
       "      <th>BRAF</th>\n",
       "      <th>CCND2</th>\n",
       "      <th>CDKN2A</th>\n",
       "      <th>...</th>\n",
       "      <th>PTEN</th>\n",
       "      <th>RB1</th>\n",
       "      <th>SMARCA4</th>\n",
       "      <th>SMARCB1</th>\n",
       "      <th>SMO</th>\n",
       "      <th>STK11</th>\n",
       "      <th>TERT</th>\n",
       "      <th>TP53_Col1</th>\n",
       "      <th>TP53_Col2</th>\n",
       "      <th>TSC2</th>\n",
       "    </tr>\n",
       "  </thead>\n",
       "  <tbody>\n",
       "    <tr>\n",
       "      <th>0</th>\n",
       "      <td>1</td>\n",
       "      <td>1</td>\n",
       "      <td>0</td>\n",
       "      <td>0</td>\n",
       "      <td>0</td>\n",
       "      <td>0</td>\n",
       "      <td>0</td>\n",
       "      <td>0</td>\n",
       "      <td>1</td>\n",
       "      <td>0</td>\n",
       "      <td>...</td>\n",
       "      <td>0</td>\n",
       "      <td>0</td>\n",
       "      <td>0</td>\n",
       "      <td>0</td>\n",
       "      <td>0</td>\n",
       "      <td>1</td>\n",
       "      <td>0</td>\n",
       "      <td>0</td>\n",
       "      <td>0</td>\n",
       "      <td>1</td>\n",
       "    </tr>\n",
       "    <tr>\n",
       "      <th>1</th>\n",
       "      <td>2</td>\n",
       "      <td>0</td>\n",
       "      <td>0</td>\n",
       "      <td>0</td>\n",
       "      <td>0</td>\n",
       "      <td>0</td>\n",
       "      <td>0</td>\n",
       "      <td>0</td>\n",
       "      <td>0</td>\n",
       "      <td>0</td>\n",
       "      <td>...</td>\n",
       "      <td>0</td>\n",
       "      <td>0</td>\n",
       "      <td>0</td>\n",
       "      <td>0</td>\n",
       "      <td>1</td>\n",
       "      <td>0</td>\n",
       "      <td>0</td>\n",
       "      <td>1</td>\n",
       "      <td>0</td>\n",
       "      <td>0</td>\n",
       "    </tr>\n",
       "    <tr>\n",
       "      <th>2</th>\n",
       "      <td>3</td>\n",
       "      <td>0</td>\n",
       "      <td>0</td>\n",
       "      <td>0</td>\n",
       "      <td>0</td>\n",
       "      <td>0</td>\n",
       "      <td>0</td>\n",
       "      <td>0</td>\n",
       "      <td>0</td>\n",
       "      <td>0</td>\n",
       "      <td>...</td>\n",
       "      <td>0</td>\n",
       "      <td>0</td>\n",
       "      <td>0</td>\n",
       "      <td>0</td>\n",
       "      <td>0</td>\n",
       "      <td>1</td>\n",
       "      <td>0</td>\n",
       "      <td>0</td>\n",
       "      <td>0</td>\n",
       "      <td>0</td>\n",
       "    </tr>\n",
       "    <tr>\n",
       "      <th>3</th>\n",
       "      <td>4</td>\n",
       "      <td>0</td>\n",
       "      <td>0</td>\n",
       "      <td>0</td>\n",
       "      <td>0</td>\n",
       "      <td>0</td>\n",
       "      <td>0</td>\n",
       "      <td>0</td>\n",
       "      <td>0</td>\n",
       "      <td>1</td>\n",
       "      <td>...</td>\n",
       "      <td>0</td>\n",
       "      <td>0</td>\n",
       "      <td>0</td>\n",
       "      <td>0</td>\n",
       "      <td>0</td>\n",
       "      <td>0</td>\n",
       "      <td>0</td>\n",
       "      <td>1</td>\n",
       "      <td>0</td>\n",
       "      <td>0</td>\n",
       "    </tr>\n",
       "    <tr>\n",
       "      <th>4</th>\n",
       "      <td>5</td>\n",
       "      <td>0</td>\n",
       "      <td>0</td>\n",
       "      <td>0</td>\n",
       "      <td>0</td>\n",
       "      <td>0</td>\n",
       "      <td>0</td>\n",
       "      <td>0</td>\n",
       "      <td>0</td>\n",
       "      <td>0</td>\n",
       "      <td>...</td>\n",
       "      <td>0</td>\n",
       "      <td>0</td>\n",
       "      <td>0</td>\n",
       "      <td>0</td>\n",
       "      <td>0</td>\n",
       "      <td>0</td>\n",
       "      <td>0</td>\n",
       "      <td>1</td>\n",
       "      <td>0</td>\n",
       "      <td>1</td>\n",
       "    </tr>\n",
       "    <tr>\n",
       "      <th>...</th>\n",
       "      <td>...</td>\n",
       "      <td>...</td>\n",
       "      <td>...</td>\n",
       "      <td>...</td>\n",
       "      <td>...</td>\n",
       "      <td>...</td>\n",
       "      <td>...</td>\n",
       "      <td>...</td>\n",
       "      <td>...</td>\n",
       "      <td>...</td>\n",
       "      <td>...</td>\n",
       "      <td>...</td>\n",
       "      <td>...</td>\n",
       "      <td>...</td>\n",
       "      <td>...</td>\n",
       "      <td>...</td>\n",
       "      <td>...</td>\n",
       "      <td>...</td>\n",
       "      <td>...</td>\n",
       "      <td>...</td>\n",
       "      <td>...</td>\n",
       "    </tr>\n",
       "    <tr>\n",
       "      <th>185</th>\n",
       "      <td>186</td>\n",
       "      <td>0</td>\n",
       "      <td>0</td>\n",
       "      <td>0</td>\n",
       "      <td>0</td>\n",
       "      <td>0</td>\n",
       "      <td>0</td>\n",
       "      <td>0</td>\n",
       "      <td>0</td>\n",
       "      <td>0</td>\n",
       "      <td>...</td>\n",
       "      <td>1</td>\n",
       "      <td>0</td>\n",
       "      <td>0</td>\n",
       "      <td>0</td>\n",
       "      <td>0</td>\n",
       "      <td>0</td>\n",
       "      <td>0</td>\n",
       "      <td>0</td>\n",
       "      <td>0</td>\n",
       "      <td>0</td>\n",
       "    </tr>\n",
       "    <tr>\n",
       "      <th>186</th>\n",
       "      <td>187</td>\n",
       "      <td>0</td>\n",
       "      <td>0</td>\n",
       "      <td>0</td>\n",
       "      <td>0</td>\n",
       "      <td>0</td>\n",
       "      <td>0</td>\n",
       "      <td>0</td>\n",
       "      <td>0</td>\n",
       "      <td>0</td>\n",
       "      <td>...</td>\n",
       "      <td>0</td>\n",
       "      <td>0</td>\n",
       "      <td>0</td>\n",
       "      <td>0</td>\n",
       "      <td>0</td>\n",
       "      <td>0</td>\n",
       "      <td>0</td>\n",
       "      <td>0</td>\n",
       "      <td>0</td>\n",
       "      <td>1</td>\n",
       "    </tr>\n",
       "    <tr>\n",
       "      <th>187</th>\n",
       "      <td>188</td>\n",
       "      <td>0</td>\n",
       "      <td>0</td>\n",
       "      <td>0</td>\n",
       "      <td>0</td>\n",
       "      <td>0</td>\n",
       "      <td>0</td>\n",
       "      <td>0</td>\n",
       "      <td>0</td>\n",
       "      <td>1</td>\n",
       "      <td>...</td>\n",
       "      <td>0</td>\n",
       "      <td>0</td>\n",
       "      <td>0</td>\n",
       "      <td>0</td>\n",
       "      <td>0</td>\n",
       "      <td>0</td>\n",
       "      <td>0</td>\n",
       "      <td>1</td>\n",
       "      <td>0</td>\n",
       "      <td>0</td>\n",
       "    </tr>\n",
       "    <tr>\n",
       "      <th>188</th>\n",
       "      <td>189</td>\n",
       "      <td>0</td>\n",
       "      <td>0</td>\n",
       "      <td>0</td>\n",
       "      <td>0</td>\n",
       "      <td>0</td>\n",
       "      <td>0</td>\n",
       "      <td>0</td>\n",
       "      <td>0</td>\n",
       "      <td>1</td>\n",
       "      <td>...</td>\n",
       "      <td>0</td>\n",
       "      <td>0</td>\n",
       "      <td>0</td>\n",
       "      <td>0</td>\n",
       "      <td>0</td>\n",
       "      <td>0</td>\n",
       "      <td>0</td>\n",
       "      <td>1</td>\n",
       "      <td>0</td>\n",
       "      <td>0</td>\n",
       "    </tr>\n",
       "    <tr>\n",
       "      <th>189</th>\n",
       "      <td>190</td>\n",
       "      <td>0</td>\n",
       "      <td>0</td>\n",
       "      <td>0</td>\n",
       "      <td>0</td>\n",
       "      <td>0</td>\n",
       "      <td>0</td>\n",
       "      <td>0</td>\n",
       "      <td>0</td>\n",
       "      <td>1</td>\n",
       "      <td>...</td>\n",
       "      <td>0</td>\n",
       "      <td>0</td>\n",
       "      <td>0</td>\n",
       "      <td>0</td>\n",
       "      <td>0</td>\n",
       "      <td>0</td>\n",
       "      <td>0</td>\n",
       "      <td>1</td>\n",
       "      <td>0</td>\n",
       "      <td>0</td>\n",
       "    </tr>\n",
       "  </tbody>\n",
       "</table>\n",
       "<p>190 rows × 51 columns</p>\n",
       "</div>"
      ],
      "text/plain": [
       "      ID  AKT1  ALK_Col1  ALK_Col2  APC  ATM_Col1  ATM_Col2  BRAF  CCND2  \\\n",
       "0      1     1         0         0    0         0         0     0      1   \n",
       "1      2     0         0         0    0         0         0     0      0   \n",
       "2      3     0         0         0    0         0         0     0      0   \n",
       "3      4     0         0         0    0         0         0     0      0   \n",
       "4      5     0         0         0    0         0         0     0      0   \n",
       "..   ...   ...       ...       ...  ...       ...       ...   ...    ...   \n",
       "185  186     0         0         0    0         0         0     0      0   \n",
       "186  187     0         0         0    0         0         0     0      0   \n",
       "187  188     0         0         0    0         0         0     0      0   \n",
       "188  189     0         0         0    0         0         0     0      0   \n",
       "189  190     0         0         0    0         0         0     0      0   \n",
       "\n",
       "     CDKN2A  ...  PTEN  RB1  SMARCA4  SMARCB1  SMO  STK11  TERT  TP53_Col1  \\\n",
       "0         0  ...     0    0        0        0    0      1     0          0   \n",
       "1         0  ...     0    0        0        0    1      0     0          1   \n",
       "2         0  ...     0    0        0        0    0      1     0          0   \n",
       "3         1  ...     0    0        0        0    0      0     0          1   \n",
       "4         0  ...     0    0        0        0    0      0     0          1   \n",
       "..      ...  ...   ...  ...      ...      ...  ...    ...   ...        ...   \n",
       "185       0  ...     1    0        0        0    0      0     0          0   \n",
       "186       0  ...     0    0        0        0    0      0     0          0   \n",
       "187       1  ...     0    0        0        0    0      0     0          1   \n",
       "188       1  ...     0    0        0        0    0      0     0          1   \n",
       "189       1  ...     0    0        0        0    0      0     0          1   \n",
       "\n",
       "     TP53_Col2  TSC2  \n",
       "0            0     1  \n",
       "1            0     0  \n",
       "2            0     0  \n",
       "3            0     0  \n",
       "4            0     1  \n",
       "..         ...   ...  \n",
       "185          0     0  \n",
       "186          0     1  \n",
       "187          0     0  \n",
       "188          0     0  \n",
       "189          0     0  \n",
       "\n",
       "[190 rows x 51 columns]"
      ]
     },
     "execution_count": 667,
     "metadata": {},
     "output_type": "execute_result"
    }
   ],
   "source": [
    "df"
   ]
  },
  {
   "cell_type": "code",
   "execution_count": 668,
   "id": "35a76f72",
   "metadata": {},
   "outputs": [],
   "source": [
    "data = pd.merge(clinical_copy,df,on=\"ID\",how=\"left\")"
   ]
  },
  {
   "cell_type": "code",
   "execution_count": 669,
   "id": "adc5aa75",
   "metadata": {},
   "outputs": [
    {
     "name": "stdout",
     "output_type": "stream",
     "text": [
      "<class 'pandas.core.frame.DataFrame'>\n",
      "Int64Index: 190 entries, 0 to 189\n",
      "Data columns (total 66 columns):\n",
      " #   Column             Non-Null Count  Dtype  \n",
      "---  ------             --------------  -----  \n",
      " 0   ID                 190 non-null    int64  \n",
      " 1   Outcome            190 non-null    object \n",
      " 2   Survival.Months    190 non-null    float64\n",
      " 3   Age                190 non-null    int64  \n",
      " 4   Grade              190 non-null    int64  \n",
      " 5   Num.Primaries      190 non-null    int64  \n",
      " 6   T                  190 non-null    object \n",
      " 7   N                  190 non-null    float64\n",
      " 8   M                  190 non-null    float64\n",
      " 9   Radiation          190 non-null    int64  \n",
      " 10  Stage              190 non-null    object \n",
      " 11  Primary.Site       190 non-null    object \n",
      " 12  Histology          190 non-null    object \n",
      " 13  Tumor.Size         190 non-null    float64\n",
      " 14  Num.Mutated.Genes  190 non-null    int64  \n",
      " 15  Num.Mutations      190 non-null    int64  \n",
      " 16  AKT1               190 non-null    int64  \n",
      " 17  ALK_Col1           190 non-null    int64  \n",
      " 18  ALK_Col2           190 non-null    int64  \n",
      " 19  APC                190 non-null    int64  \n",
      " 20  ATM_Col1           190 non-null    int64  \n",
      " 21  ATM_Col2           190 non-null    int64  \n",
      " 22  BRAF               190 non-null    int64  \n",
      " 23  CCND2              190 non-null    int64  \n",
      " 24  CDKN2A             190 non-null    int64  \n",
      " 25  CTNNB1             190 non-null    int64  \n",
      " 26  DNMT3A             190 non-null    int64  \n",
      " 27  EGFR               190 non-null    int64  \n",
      " 28  ERBB3              190 non-null    int64  \n",
      " 29  ERBB4              190 non-null    int64  \n",
      " 30  ESR1               190 non-null    int64  \n",
      " 31  FBXW7              190 non-null    int64  \n",
      " 32  FGFR1              190 non-null    int64  \n",
      " 33  FGFR3              190 non-null    int64  \n",
      " 34  FLT4               190 non-null    int64  \n",
      " 35  FOXL2              190 non-null    int64  \n",
      " 36  GNAS               190 non-null    int64  \n",
      " 37  HNF1A              190 non-null    int64  \n",
      " 38  KRAS_Col1          190 non-null    int64  \n",
      " 39  KRAS_Col2          190 non-null    int64  \n",
      " 40  MAP2K2             190 non-null    int64  \n",
      " 41  MET                190 non-null    int64  \n",
      " 42  MLH_Col2           190 non-null    int64  \n",
      " 43  MSH2               190 non-null    int64  \n",
      " 44  MSH6               190 non-null    int64  \n",
      " 45  NF_Col1            190 non-null    int64  \n",
      " 46  NF_Col2            190 non-null    int64  \n",
      " 47  NF_Col3            190 non-null    int64  \n",
      " 48  NF_Col5            190 non-null    int64  \n",
      " 49  NOTCH1             190 non-null    int64  \n",
      " 50  NTRK1              190 non-null    int64  \n",
      " 51  PDGFRB             190 non-null    int64  \n",
      " 52  PIK3CA             190 non-null    int64  \n",
      " 53  PIK3CB             190 non-null    int64  \n",
      " 54  POLD_Col2          190 non-null    int64  \n",
      " 55  PTCH1              190 non-null    int64  \n",
      " 56  PTEN               190 non-null    int64  \n",
      " 57  RB1                190 non-null    int64  \n",
      " 58  SMARCA4            190 non-null    int64  \n",
      " 59  SMARCB1            190 non-null    int64  \n",
      " 60  SMO                190 non-null    int64  \n",
      " 61  STK11              190 non-null    int64  \n",
      " 62  TERT               190 non-null    int64  \n",
      " 63  TP53_Col1          190 non-null    int64  \n",
      " 64  TP53_Col2          190 non-null    int64  \n",
      " 65  TSC2               190 non-null    int64  \n",
      "dtypes: float64(4), int64(57), object(5)\n",
      "memory usage: 99.5+ KB\n"
     ]
    }
   ],
   "source": [
    "data.info()"
   ]
  },
  {
   "cell_type": "code",
   "execution_count": 274,
   "id": "076f7022",
   "metadata": {},
   "outputs": [
    {
     "name": "stderr",
     "output_type": "stream",
     "text": [
      "/var/folders/zh/dvg4994d0_v8dpj_6tb0y44r0000gn/T/ipykernel_69187/3806444317.py:3: SettingWithCopyWarning: \n",
      "A value is trying to be set on a copy of a slice from a DataFrame\n",
      "\n",
      "See the caveats in the documentation: https://pandas.pydata.org/pandas-docs/stable/user_guide/indexing.html#returning-a-view-versus-a-copy\n",
      "  data[\"Gene\"].loc[i] = \"unknown\"\n"
     ]
    }
   ],
   "source": [
    "for i in range(len(data[\"Gene\"])):\n",
    "    if str(data[\"Gene\"].loc[i]) == \"nan\":\n",
    "        data[\"Gene\"].loc[i] = \"unknown\""
   ]
  },
  {
   "cell_type": "markdown",
   "id": "ad014139",
   "metadata": {},
   "source": [
    "## Data Pipe"
   ]
  },
  {
   "cell_type": "markdown",
   "id": "3aa27840",
   "metadata": {},
   "source": [
    "Now I will create a pipeline to transform the data in an easy to manipulate way, that way in principle I can easily eliminate, add, and transform features in this step."
   ]
  },
  {
   "cell_type": "code",
   "execution_count": 673,
   "id": "9f416bf0",
   "metadata": {},
   "outputs": [],
   "source": [
    "data = clinical_copy.merge(df,on=\"ID\",how=\"inner\")\n",
    "#data = clinical_copy"
   ]
  },
  {
   "cell_type": "markdown",
   "id": "7fa05d9b",
   "metadata": {},
   "source": [
    "In addition to transforming the genomics table, let's add one more feature with the N*(M+1) product to include the number of distant mestasases with number of mestasis to lymph nodes. "
   ]
  },
  {
   "cell_type": "code",
   "execution_count": 517,
   "id": "6730777a",
   "metadata": {},
   "outputs": [],
   "source": [
    "n_times_m = data[\"N\"]*(data[\"M\"]+1)\n",
    "n_times_m= pd.DataFrame(data=n_times_m,columns=[\"NxM\"])\n",
    "data=data.join(n_times_m)"
   ]
  },
  {
   "cell_type": "markdown",
   "id": "420740f3",
   "metadata": {},
   "source": [
    "Finally I will create the pipeline, I include a section for standard scalar normalization, as well as a one hot encoded section for categorical-like features, while dropping the \"Outcome\" and \"Id\"."
   ]
  },
  {
   "cell_type": "code",
   "execution_count": 518,
   "id": "83a27010",
   "metadata": {},
   "outputs": [],
   "source": [
    "hot_list = [\"Stage\",\"Histology\",\"Primary.Site\",\"Grade\",\"N\",\"M\",\"T\"]\n",
    "st_scal = [\"Survival.Months\",\"Age\",\"Tumor.Size\",\"Num.Mutations\",\"Num.Mutated.Genes\",\"NxM\"]\n",
    "#or_enc = [\"\"]\n",
    "drop = [\"ID\",\"Outcome\"]\n",
    "outcome = data[\"Outcome\"]\n",
    "#pipe = [('standard_scaler',StandardScaler(),st_scal),\n",
    "#        (\"categorical\",OneHotEncoder(),hot_list),\n",
    "#        (\"gene\",OrdinalEncoder(),or_enc),\n",
    "#        ('drop','drop',drop)]\n",
    "\n",
    "pipe = [('standard_scaler',StandardScaler(),st_scal),\n",
    "        (\"categorical\",OneHotEncoder(),hot_list),\n",
    "        ('drop','drop',drop)]\n",
    "\n",
    "full_pipe = ColumnTransformer(pipe,remainder='passthrough')\n",
    "data_trans = full_pipe.fit_transform(data)"
   ]
  },
  {
   "cell_type": "code",
   "execution_count": 523,
   "id": "eefa4dbb",
   "metadata": {},
   "outputs": [
    {
     "data": {
      "text/html": [
       "<div>\n",
       "<style scoped>\n",
       "    .dataframe tbody tr th:only-of-type {\n",
       "        vertical-align: middle;\n",
       "    }\n",
       "\n",
       "    .dataframe tbody tr th {\n",
       "        vertical-align: top;\n",
       "    }\n",
       "\n",
       "    .dataframe thead th {\n",
       "        text-align: right;\n",
       "    }\n",
       "</style>\n",
       "<table border=\"1\" class=\"dataframe\">\n",
       "  <thead>\n",
       "    <tr style=\"text-align: right;\">\n",
       "      <th></th>\n",
       "      <th>ID</th>\n",
       "      <th>Outcome</th>\n",
       "      <th>Survival.Months</th>\n",
       "      <th>Age</th>\n",
       "      <th>Grade</th>\n",
       "      <th>Num.Primaries</th>\n",
       "      <th>T</th>\n",
       "      <th>N</th>\n",
       "      <th>M</th>\n",
       "      <th>Radiation</th>\n",
       "      <th>...</th>\n",
       "      <th>RB1</th>\n",
       "      <th>SMARCA4</th>\n",
       "      <th>SMARCB1</th>\n",
       "      <th>SMO</th>\n",
       "      <th>STK11</th>\n",
       "      <th>TERT</th>\n",
       "      <th>TP53_Col1</th>\n",
       "      <th>TP53_Col2</th>\n",
       "      <th>TSC2</th>\n",
       "      <th>NxM</th>\n",
       "    </tr>\n",
       "  </thead>\n",
       "  <tbody>\n",
       "    <tr>\n",
       "      <th>0</th>\n",
       "      <td>1</td>\n",
       "      <td>Alive</td>\n",
       "      <td>9.0</td>\n",
       "      <td>67</td>\n",
       "      <td>4</td>\n",
       "      <td>0</td>\n",
       "      <td>UNK</td>\n",
       "      <td>2.0</td>\n",
       "      <td>0.0</td>\n",
       "      <td>0</td>\n",
       "      <td>...</td>\n",
       "      <td>0</td>\n",
       "      <td>0</td>\n",
       "      <td>0</td>\n",
       "      <td>0</td>\n",
       "      <td>1</td>\n",
       "      <td>0</td>\n",
       "      <td>0</td>\n",
       "      <td>0</td>\n",
       "      <td>1</td>\n",
       "      <td>2.0</td>\n",
       "    </tr>\n",
       "    <tr>\n",
       "      <th>1</th>\n",
       "      <td>2</td>\n",
       "      <td>Dead</td>\n",
       "      <td>19.0</td>\n",
       "      <td>73</td>\n",
       "      <td>2</td>\n",
       "      <td>0</td>\n",
       "      <td>UNK</td>\n",
       "      <td>2.0</td>\n",
       "      <td>0.0</td>\n",
       "      <td>5</td>\n",
       "      <td>...</td>\n",
       "      <td>0</td>\n",
       "      <td>0</td>\n",
       "      <td>0</td>\n",
       "      <td>1</td>\n",
       "      <td>0</td>\n",
       "      <td>0</td>\n",
       "      <td>1</td>\n",
       "      <td>0</td>\n",
       "      <td>0</td>\n",
       "      <td>2.0</td>\n",
       "    </tr>\n",
       "    <tr>\n",
       "      <th>2</th>\n",
       "      <td>3</td>\n",
       "      <td>Dead</td>\n",
       "      <td>13.0</td>\n",
       "      <td>72</td>\n",
       "      <td>3</td>\n",
       "      <td>0</td>\n",
       "      <td>2</td>\n",
       "      <td>2.0</td>\n",
       "      <td>0.0</td>\n",
       "      <td>0</td>\n",
       "      <td>...</td>\n",
       "      <td>0</td>\n",
       "      <td>0</td>\n",
       "      <td>0</td>\n",
       "      <td>0</td>\n",
       "      <td>1</td>\n",
       "      <td>0</td>\n",
       "      <td>0</td>\n",
       "      <td>0</td>\n",
       "      <td>0</td>\n",
       "      <td>2.0</td>\n",
       "    </tr>\n",
       "    <tr>\n",
       "      <th>3</th>\n",
       "      <td>4</td>\n",
       "      <td>Dead</td>\n",
       "      <td>15.0</td>\n",
       "      <td>69</td>\n",
       "      <td>9</td>\n",
       "      <td>1</td>\n",
       "      <td>1a</td>\n",
       "      <td>0.0</td>\n",
       "      <td>1.0</td>\n",
       "      <td>0</td>\n",
       "      <td>...</td>\n",
       "      <td>0</td>\n",
       "      <td>0</td>\n",
       "      <td>0</td>\n",
       "      <td>0</td>\n",
       "      <td>0</td>\n",
       "      <td>0</td>\n",
       "      <td>1</td>\n",
       "      <td>0</td>\n",
       "      <td>0</td>\n",
       "      <td>0.0</td>\n",
       "    </tr>\n",
       "    <tr>\n",
       "      <th>4</th>\n",
       "      <td>5</td>\n",
       "      <td>Dead</td>\n",
       "      <td>10.0</td>\n",
       "      <td>76</td>\n",
       "      <td>9</td>\n",
       "      <td>0</td>\n",
       "      <td>UNK</td>\n",
       "      <td>0.0</td>\n",
       "      <td>0.0</td>\n",
       "      <td>0</td>\n",
       "      <td>...</td>\n",
       "      <td>0</td>\n",
       "      <td>0</td>\n",
       "      <td>0</td>\n",
       "      <td>0</td>\n",
       "      <td>0</td>\n",
       "      <td>0</td>\n",
       "      <td>1</td>\n",
       "      <td>0</td>\n",
       "      <td>1</td>\n",
       "      <td>0.0</td>\n",
       "    </tr>\n",
       "    <tr>\n",
       "      <th>...</th>\n",
       "      <td>...</td>\n",
       "      <td>...</td>\n",
       "      <td>...</td>\n",
       "      <td>...</td>\n",
       "      <td>...</td>\n",
       "      <td>...</td>\n",
       "      <td>...</td>\n",
       "      <td>...</td>\n",
       "      <td>...</td>\n",
       "      <td>...</td>\n",
       "      <td>...</td>\n",
       "      <td>...</td>\n",
       "      <td>...</td>\n",
       "      <td>...</td>\n",
       "      <td>...</td>\n",
       "      <td>...</td>\n",
       "      <td>...</td>\n",
       "      <td>...</td>\n",
       "      <td>...</td>\n",
       "      <td>...</td>\n",
       "      <td>...</td>\n",
       "    </tr>\n",
       "    <tr>\n",
       "      <th>185</th>\n",
       "      <td>186</td>\n",
       "      <td>Dead</td>\n",
       "      <td>32.0</td>\n",
       "      <td>82</td>\n",
       "      <td>9</td>\n",
       "      <td>0</td>\n",
       "      <td>4</td>\n",
       "      <td>0.0</td>\n",
       "      <td>1.0</td>\n",
       "      <td>0</td>\n",
       "      <td>...</td>\n",
       "      <td>0</td>\n",
       "      <td>0</td>\n",
       "      <td>0</td>\n",
       "      <td>0</td>\n",
       "      <td>0</td>\n",
       "      <td>0</td>\n",
       "      <td>0</td>\n",
       "      <td>0</td>\n",
       "      <td>0</td>\n",
       "      <td>0.0</td>\n",
       "    </tr>\n",
       "    <tr>\n",
       "      <th>186</th>\n",
       "      <td>187</td>\n",
       "      <td>Dead</td>\n",
       "      <td>10.0</td>\n",
       "      <td>62</td>\n",
       "      <td>4</td>\n",
       "      <td>0</td>\n",
       "      <td>3</td>\n",
       "      <td>2.0</td>\n",
       "      <td>0.0</td>\n",
       "      <td>0</td>\n",
       "      <td>...</td>\n",
       "      <td>0</td>\n",
       "      <td>0</td>\n",
       "      <td>0</td>\n",
       "      <td>0</td>\n",
       "      <td>0</td>\n",
       "      <td>0</td>\n",
       "      <td>0</td>\n",
       "      <td>0</td>\n",
       "      <td>1</td>\n",
       "      <td>2.0</td>\n",
       "    </tr>\n",
       "    <tr>\n",
       "      <th>187</th>\n",
       "      <td>188</td>\n",
       "      <td>Dead</td>\n",
       "      <td>23.0</td>\n",
       "      <td>72</td>\n",
       "      <td>3</td>\n",
       "      <td>0</td>\n",
       "      <td>3</td>\n",
       "      <td>0.0</td>\n",
       "      <td>0.0</td>\n",
       "      <td>0</td>\n",
       "      <td>...</td>\n",
       "      <td>0</td>\n",
       "      <td>0</td>\n",
       "      <td>0</td>\n",
       "      <td>0</td>\n",
       "      <td>0</td>\n",
       "      <td>0</td>\n",
       "      <td>1</td>\n",
       "      <td>0</td>\n",
       "      <td>0</td>\n",
       "      <td>0.0</td>\n",
       "    </tr>\n",
       "    <tr>\n",
       "      <th>188</th>\n",
       "      <td>189</td>\n",
       "      <td>Dead</td>\n",
       "      <td>32.0</td>\n",
       "      <td>67</td>\n",
       "      <td>4</td>\n",
       "      <td>1</td>\n",
       "      <td>1a</td>\n",
       "      <td>2.0</td>\n",
       "      <td>0.0</td>\n",
       "      <td>0</td>\n",
       "      <td>...</td>\n",
       "      <td>0</td>\n",
       "      <td>0</td>\n",
       "      <td>0</td>\n",
       "      <td>0</td>\n",
       "      <td>0</td>\n",
       "      <td>0</td>\n",
       "      <td>1</td>\n",
       "      <td>0</td>\n",
       "      <td>0</td>\n",
       "      <td>2.0</td>\n",
       "    </tr>\n",
       "    <tr>\n",
       "      <th>189</th>\n",
       "      <td>190</td>\n",
       "      <td>Dead</td>\n",
       "      <td>33.0</td>\n",
       "      <td>71</td>\n",
       "      <td>9</td>\n",
       "      <td>0</td>\n",
       "      <td>2a</td>\n",
       "      <td>2.0</td>\n",
       "      <td>0.0</td>\n",
       "      <td>0</td>\n",
       "      <td>...</td>\n",
       "      <td>0</td>\n",
       "      <td>0</td>\n",
       "      <td>0</td>\n",
       "      <td>0</td>\n",
       "      <td>0</td>\n",
       "      <td>0</td>\n",
       "      <td>1</td>\n",
       "      <td>0</td>\n",
       "      <td>0</td>\n",
       "      <td>2.0</td>\n",
       "    </tr>\n",
       "  </tbody>\n",
       "</table>\n",
       "<p>190 rows × 67 columns</p>\n",
       "</div>"
      ],
      "text/plain": [
       "      ID Outcome  Survival.Months  Age  Grade  Num.Primaries    T    N    M  \\\n",
       "0      1   Alive              9.0   67      4              0  UNK  2.0  0.0   \n",
       "1      2    Dead             19.0   73      2              0  UNK  2.0  0.0   \n",
       "2      3    Dead             13.0   72      3              0    2  2.0  0.0   \n",
       "3      4    Dead             15.0   69      9              1   1a  0.0  1.0   \n",
       "4      5    Dead             10.0   76      9              0  UNK  0.0  0.0   \n",
       "..   ...     ...              ...  ...    ...            ...  ...  ...  ...   \n",
       "185  186    Dead             32.0   82      9              0    4  0.0  1.0   \n",
       "186  187    Dead             10.0   62      4              0    3  2.0  0.0   \n",
       "187  188    Dead             23.0   72      3              0    3  0.0  0.0   \n",
       "188  189    Dead             32.0   67      4              1   1a  2.0  0.0   \n",
       "189  190    Dead             33.0   71      9              0   2a  2.0  0.0   \n",
       "\n",
       "     Radiation  ... RB1 SMARCA4 SMARCB1  SMO  STK11  TERT  TP53_Col1  \\\n",
       "0            0  ...   0       0       0    0      1     0          0   \n",
       "1            5  ...   0       0       0    1      0     0          1   \n",
       "2            0  ...   0       0       0    0      1     0          0   \n",
       "3            0  ...   0       0       0    0      0     0          1   \n",
       "4            0  ...   0       0       0    0      0     0          1   \n",
       "..         ...  ...  ..     ...     ...  ...    ...   ...        ...   \n",
       "185          0  ...   0       0       0    0      0     0          0   \n",
       "186          0  ...   0       0       0    0      0     0          0   \n",
       "187          0  ...   0       0       0    0      0     0          1   \n",
       "188          0  ...   0       0       0    0      0     0          1   \n",
       "189          0  ...   0       0       0    0      0     0          1   \n",
       "\n",
       "     TP53_Col2  TSC2  NxM  \n",
       "0            0     1  2.0  \n",
       "1            0     0  2.0  \n",
       "2            0     0  2.0  \n",
       "3            0     0  0.0  \n",
       "4            0     1  0.0  \n",
       "..         ...   ...  ...  \n",
       "185          0     0  0.0  \n",
       "186          0     1  2.0  \n",
       "187          0     0  0.0  \n",
       "188          0     0  2.0  \n",
       "189          0     0  2.0  \n",
       "\n",
       "[190 rows x 67 columns]"
      ]
     },
     "execution_count": 523,
     "metadata": {},
     "output_type": "execute_result"
    }
   ],
   "source": [
    "data"
   ]
  },
  {
   "cell_type": "markdown",
   "id": "9444733b",
   "metadata": {},
   "source": [
    "Here I create a test and training set split according to the distribution of the dead or alive outcome."
   ]
  },
  {
   "cell_type": "code",
   "execution_count": 677,
   "id": "e2127699",
   "metadata": {},
   "outputs": [],
   "source": [
    "split = StratifiedShuffleSplit(n_splits=1,test_size=0.2, random_state=42)\n",
    "\n",
    "for train_ind, test_ind in split.split(data_trans,outcome):\n",
    "    train_list = train_ind\n",
    "    test_list = test_ind\n",
    "\n",
    "train_data, train_result = data_trans[train_list],outcome[train_list]\n",
    "test_data, test_result = data_trans[test_list],outcome[test_list]"
   ]
  },
  {
   "cell_type": "code",
   "execution_count": 678,
   "id": "44f1e0ff",
   "metadata": {},
   "outputs": [],
   "source": [
    "def convert(set_):\n",
    "    # convert outcomes to 1s and 0s\n",
    "    tmp = []\n",
    "    for i in range(len(set_)):\n",
    "        if set_.iloc[i] == \"Alive\":\n",
    "            tmp.append(0)\n",
    "        else:\n",
    "            tmp.append(1)\n",
    "    return tmp\n",
    "train_result , test_result= convert(train_result), convert(test_result)"
   ]
  },
  {
   "cell_type": "markdown",
   "id": "2d45ba58",
   "metadata": {},
   "source": [
    "# Models"
   ]
  },
  {
   "cell_type": "markdown",
   "id": "2b4a47e8",
   "metadata": {},
   "source": [
    "In this section I will try a few different modeling while recording common binary classification metrics to evaluate their success. These models predict a probability and use a threshold to decide whether or not the patient died or lived. The confusion matrix is used to see the number of True positives and negatives as well as false positives and negatives. The recall, precision, and F1 score are used to see what this threshold dependence might be. The rate of characteristic curve is also used to see the models false positive to true positive rate changes with threshold."
   ]
  },
  {
   "cell_type": "code",
   "execution_count": 679,
   "id": "652c9bea",
   "metadata": {},
   "outputs": [],
   "source": [
    "def plot_confusion(model):\n",
    "    fig, (ax1, ax2) = plt.subplots(1,2)\n",
    "    ax1.set_title(\"Train\")\n",
    "    ax2.set_title(\"Test\")\n",
    "    ax1.set(xlabel='Predicted', ylabel='True')\n",
    "    ax2.set(xlabel='Predicted', ylabel='True')\n",
    "    sns.heatmap(confusion_matrix(train_result,model.predict(train_data)),\n",
    "            xticklabels=[\"Alive (predicted)\",\"Dead (predicted)\"],\n",
    "            yticklabels=[\"Alive (true)\",\"Dead (true)\"],\n",
    "            annot=True,ax=ax1);\n",
    "    sns.heatmap(confusion_matrix(test_result,model.predict(test_data)),\n",
    "            xticklabels=[\"Alive (predicted)\",\"Dead (predicted)\"],\n",
    "            yticklabels=[\"Alive (true)\",\"Dead (true)\"],\n",
    "            annot=True,ax=ax2);\n",
    "    \n",
    "def plot_prec_recall(p,r,t):\n",
    "    plt.plot(t,p[:-1],\"b--\",label=\"precision\")\n",
    "    plt.plot(t,r[:-1],\"g-\",label=\"recall\")\n",
    "    plt.legend(loc=\"upper left\")\n",
    "    plt.xlabel(\"Threshold\")\n",
    "    plt.ylabel(\"Score\")\n",
    "    plt.show() \n",
    "def print_scores(y,y_pred):\n",
    "    print(\"Recall:\", recall_score(y,y_pred))\n",
    "    print(\"Precision:\", precision_score(y,y_pred))\n",
    "    print(\"F1:\",f1_score(y,y_pred))\n",
    "    print(\"Accuracy:\", accuracy_score(y,y_pred))\n",
    "def plot_roc(fpr,tpr,thresholds):\n",
    "    plt.plot([0,1], [0,1], linestyle='--', label='No Skill')\n",
    "    plt.plot(fpr, tpr, marker='.', label='ROC')\n",
    "    plt.legend(loc=\"upper left\")\n",
    "    plt.xlabel(\"False positive rate\")\n",
    "    plt.ylabel(\"True positive rate\")\n",
    "    plt.show()\n",
    "            "
   ]
  },
  {
   "cell_type": "markdown",
   "id": "738b16a0",
   "metadata": {},
   "source": [
    "## Logistic Regression"
   ]
  },
  {
   "cell_type": "markdown",
   "id": "15a08775",
   "metadata": {},
   "source": [
    "I will begin with a logistic regression model, they generally are not susceptible to over-fitting and can be more intuitive to understand the contribution of each linear coefficient in the model."
   ]
  },
  {
   "cell_type": "code",
   "execution_count": 301,
   "id": "93750049",
   "metadata": {},
   "outputs": [],
   "source": [
    "from sklearn.linear_model import LogisticRegression\n",
    "\n",
    "log_reg = LogisticRegression(max_iter=1e4,solver='lbfgs',verbose=1)"
   ]
  },
  {
   "cell_type": "code",
   "execution_count": 521,
   "id": "19061d47",
   "metadata": {},
   "outputs": [
    {
     "name": "stdout",
     "output_type": "stream",
     "text": [
      "RUNNING THE L-BFGS-B CODE\n",
      "\n",
      "           * * *\n",
      "\n",
      "Machine precision = 2.220D-16\n",
      " N =           99     M =           10\n",
      "\n",
      "At X0         0 variables are exactly at the bounds\n",
      "\n",
      "At iterate    0    f=  1.05358D+02    |proj g|=  6.50000D+01\n",
      "\n",
      "           * * *\n",
      "\n",
      "Tit   = total number of iterations\n",
      "Tnf   = total number of function evaluations\n",
      "Tnint = total number of segments explored during Cauchy searches\n",
      "Skip  = number of BFGS updates skipped\n",
      "Nact  = number of active bounds at final generalized Cauchy point\n",
      "Projg = norm of the final projected gradient\n",
      "F     = final function value\n",
      "\n",
      "           * * *\n",
      "\n",
      "   N    Tit     Tnf  Tnint  Skip  Nact     Projg        F\n",
      "   99     46     49      1     0     0   3.271D-04   2.986D+01\n",
      "  F =   29.856098344116013     \n",
      "\n",
      "CONVERGENCE: REL_REDUCTION_OF_F_<=_FACTR*EPSMCH             \n"
     ]
    },
    {
     "name": "stderr",
     "output_type": "stream",
     "text": [
      "[Parallel(n_jobs=1)]: Using backend SequentialBackend with 1 concurrent workers.\n",
      " This problem is unconstrained.\n",
      "[Parallel(n_jobs=1)]: Done   1 out of   1 | elapsed:    0.2s finished\n"
     ]
    },
    {
     "data": {
      "text/html": [
       "<style>#sk-container-id-6 {color: black;background-color: white;}#sk-container-id-6 pre{padding: 0;}#sk-container-id-6 div.sk-toggleable {background-color: white;}#sk-container-id-6 label.sk-toggleable__label {cursor: pointer;display: block;width: 100%;margin-bottom: 0;padding: 0.3em;box-sizing: border-box;text-align: center;}#sk-container-id-6 label.sk-toggleable__label-arrow:before {content: \"▸\";float: left;margin-right: 0.25em;color: #696969;}#sk-container-id-6 label.sk-toggleable__label-arrow:hover:before {color: black;}#sk-container-id-6 div.sk-estimator:hover label.sk-toggleable__label-arrow:before {color: black;}#sk-container-id-6 div.sk-toggleable__content {max-height: 0;max-width: 0;overflow: hidden;text-align: left;background-color: #f0f8ff;}#sk-container-id-6 div.sk-toggleable__content pre {margin: 0.2em;color: black;border-radius: 0.25em;background-color: #f0f8ff;}#sk-container-id-6 input.sk-toggleable__control:checked~div.sk-toggleable__content {max-height: 200px;max-width: 100%;overflow: auto;}#sk-container-id-6 input.sk-toggleable__control:checked~label.sk-toggleable__label-arrow:before {content: \"▾\";}#sk-container-id-6 div.sk-estimator input.sk-toggleable__control:checked~label.sk-toggleable__label {background-color: #d4ebff;}#sk-container-id-6 div.sk-label input.sk-toggleable__control:checked~label.sk-toggleable__label {background-color: #d4ebff;}#sk-container-id-6 input.sk-hidden--visually {border: 0;clip: rect(1px 1px 1px 1px);clip: rect(1px, 1px, 1px, 1px);height: 1px;margin: -1px;overflow: hidden;padding: 0;position: absolute;width: 1px;}#sk-container-id-6 div.sk-estimator {font-family: monospace;background-color: #f0f8ff;border: 1px dotted black;border-radius: 0.25em;box-sizing: border-box;margin-bottom: 0.5em;}#sk-container-id-6 div.sk-estimator:hover {background-color: #d4ebff;}#sk-container-id-6 div.sk-parallel-item::after {content: \"\";width: 100%;border-bottom: 1px solid gray;flex-grow: 1;}#sk-container-id-6 div.sk-label:hover label.sk-toggleable__label {background-color: #d4ebff;}#sk-container-id-6 div.sk-serial::before {content: \"\";position: absolute;border-left: 1px solid gray;box-sizing: border-box;top: 0;bottom: 0;left: 50%;z-index: 0;}#sk-container-id-6 div.sk-serial {display: flex;flex-direction: column;align-items: center;background-color: white;padding-right: 0.2em;padding-left: 0.2em;position: relative;}#sk-container-id-6 div.sk-item {position: relative;z-index: 1;}#sk-container-id-6 div.sk-parallel {display: flex;align-items: stretch;justify-content: center;background-color: white;position: relative;}#sk-container-id-6 div.sk-item::before, #sk-container-id-6 div.sk-parallel-item::before {content: \"\";position: absolute;border-left: 1px solid gray;box-sizing: border-box;top: 0;bottom: 0;left: 50%;z-index: -1;}#sk-container-id-6 div.sk-parallel-item {display: flex;flex-direction: column;z-index: 1;position: relative;background-color: white;}#sk-container-id-6 div.sk-parallel-item:first-child::after {align-self: flex-end;width: 50%;}#sk-container-id-6 div.sk-parallel-item:last-child::after {align-self: flex-start;width: 50%;}#sk-container-id-6 div.sk-parallel-item:only-child::after {width: 0;}#sk-container-id-6 div.sk-dashed-wrapped {border: 1px dashed gray;margin: 0 0.4em 0.5em 0.4em;box-sizing: border-box;padding-bottom: 0.4em;background-color: white;}#sk-container-id-6 div.sk-label label {font-family: monospace;font-weight: bold;display: inline-block;line-height: 1.2em;}#sk-container-id-6 div.sk-label-container {text-align: center;}#sk-container-id-6 div.sk-container {/* jupyter's `normalize.less` sets `[hidden] { display: none; }` but bootstrap.min.css set `[hidden] { display: none !important; }` so we also need the `!important` here to be able to override the default hidden behavior on the sphinx rendered scikit-learn.org. See: https://github.com/scikit-learn/scikit-learn/issues/21755 */display: inline-block !important;position: relative;}#sk-container-id-6 div.sk-text-repr-fallback {display: none;}</style><div id=\"sk-container-id-6\" class=\"sk-top-container\"><div class=\"sk-text-repr-fallback\"><pre>LogisticRegression(max_iter=10000.0, verbose=1)</pre><b>In a Jupyter environment, please rerun this cell to show the HTML representation or trust the notebook. <br />On GitHub, the HTML representation is unable to render, please try loading this page with nbviewer.org.</b></div><div class=\"sk-container\" hidden><div class=\"sk-item\"><div class=\"sk-estimator sk-toggleable\"><input class=\"sk-toggleable__control sk-hidden--visually\" id=\"sk-estimator-id-6\" type=\"checkbox\" checked><label for=\"sk-estimator-id-6\" class=\"sk-toggleable__label sk-toggleable__label-arrow\">LogisticRegression</label><div class=\"sk-toggleable__content\"><pre>LogisticRegression(max_iter=10000.0, verbose=1)</pre></div></div></div></div></div>"
      ],
      "text/plain": [
       "LogisticRegression(max_iter=10000.0, verbose=1)"
      ]
     },
     "execution_count": 521,
     "metadata": {},
     "output_type": "execute_result"
    }
   ],
   "source": [
    "log_reg.fit(train_data,train_result)"
   ]
  },
  {
   "cell_type": "code",
   "execution_count": 611,
   "id": "cf53c294",
   "metadata": {},
   "outputs": [
    {
     "data": {
      "text/plain": [
       "array([[-0.39573929, -0.16381525,  0.30757532, -0.32458848, -0.05214594,\n",
       "        -0.05813464, -0.51984264, -0.75238993, -0.0697965 ,  0.61491096,\n",
       "         0.4594877 , -0.65086401,  0.48067764,  0.06157056,  0.3762068 ,\n",
       "         0.45607237,  0.31292517, -0.76903697,  0.27255309,  0.77673608,\n",
       "        -0.89528421, -0.38689011, -0.23891743,  1.09758037, -0.53543438,\n",
       "         0.02076791, -0.11115076, -0.44611506,  0.00584007, -0.37712563,\n",
       "         0.81736119, -0.47171156, -0.11561261,  0.1818565 ,  0.40542823,\n",
       "         0.52197919, -0.52201862, -0.16912093, -0.03731262, -0.86031509,\n",
       "         0.33271036, -0.57133472,  0.19443157,  0.74726192,  0.46136059,\n",
       "        -0.0977205 , -0.66220147, -0.08279681, -0.24897285,  0.        ,\n",
       "        -0.53239861,  0.21739107, -0.62839904, -0.01818151, -0.0697965 ,\n",
       "        -0.22107741,  1.06868403, -0.22892174, -0.23866538, -0.54907495,\n",
       "        -0.28968223, -0.61076988,  0.        ,  0.70774259, -0.00533306,\n",
       "        -0.24897285, -0.13715406, -0.23891743, -0.10839267, -0.51984264,\n",
       "        -0.38557497,  0.        , -0.21192411,  0.36357875,  0.        ,\n",
       "         0.0061038 ,  0.52778052, -0.15139408,  0.55457812,  0.32414534,\n",
       "         0.12941276, -0.43321966,  0.47194022, -0.7978346 , -0.17157306,\n",
       "         0.82547331, -0.2836641 , -0.71787752,  0.54735916,  0.20513352,\n",
       "        -0.21192411,  0.31131981,  0.27574784,  0.60468339,  0.94594731,\n",
       "        -0.42447956,  0.57781487, -0.05687307]])"
      ]
     },
     "execution_count": 611,
     "metadata": {},
     "output_type": "execute_result"
    }
   ],
   "source": [
    "log_reg.coef_"
   ]
  },
  {
   "cell_type": "code",
   "execution_count": 590,
   "id": "ae673662",
   "metadata": {},
   "outputs": [
    {
     "data": {
      "image/png": "[encoded data removed]",
      "text/plain": [
       "<Figure size 1080x360 with 4 Axes>"
      ]
     },
     "metadata": {
      "needs_background": "light"
     },
     "output_type": "display_data"
    }
   ],
   "source": [
    "plot_confusion(log_reg)"
   ]
  },
  {
   "cell_type": "code",
   "execution_count": 493,
   "id": "8f3ef6bc",
   "metadata": {},
   "outputs": [
    {
     "data": {
      "image/png": "[encoded data removed]",
      "text/plain": [
       "<Figure size 1080x360 with 1 Axes>"
      ]
     },
     "metadata": {
      "needs_background": "light"
     },
     "output_type": "display_data"
    }
   ],
   "source": [
    "\n",
    "precision, recall, thresholds = precision_recall_curve(test_result,log_reg.predict_proba(test_data)[:,1])\n",
    "plot_prec_recall(precision,recall,thresholds)\n",
    "\n",
    "#log_reg.predict_proba(test_data)[:,1]"
   ]
  },
  {
   "cell_type": "code",
   "execution_count": 604,
   "id": "52dbbe42",
   "metadata": {},
   "outputs": [
    {
     "name": "stdout",
     "output_type": "stream",
     "text": [
      "Recall: 0.9666666666666667\n",
      "Precision: 0.9666666666666667\n",
      "F1: 0.9666666666666667\n",
      "Accuracy: 0.9473684210526315\n"
     ]
    }
   ],
   "source": [
    "print_scores(log_reg.predict(test_data),test_result)"
   ]
  },
  {
   "cell_type": "code",
   "execution_count": 605,
   "id": "df0f88c4",
   "metadata": {},
   "outputs": [
    {
     "name": "stdout",
     "output_type": "stream",
     "text": [
      "Recall: 0.967741935483871\n",
      "Precision: 1.0\n",
      "F1: 0.9836065573770492\n",
      "Accuracy: 0.9736842105263158\n"
     ]
    }
   ],
   "source": [
    "print_scores(log_reg.predict(train_data),train_result)"
   ]
  },
  {
   "cell_type": "code",
   "execution_count": 597,
   "id": "96b08faa",
   "metadata": {},
   "outputs": [
    {
     "data": {
      "image/png": "[encoded data removed]",
      "text/plain": [
       "<Figure size 1080x360 with 1 Axes>"
      ]
     },
     "metadata": {
      "needs_background": "light"
     },
     "output_type": "display_data"
    },
    {
     "name": "stdout",
     "output_type": "stream",
     "text": [
      "AUC: 0.9708333333333333\n"
     ]
    }
   ],
   "source": [
    "fpr, tpr, thresholds = roc_curve(test_result,log_reg.predict_proba(test_data)[:,1])\n",
    "plot_roc(fpr,tpr,thresholds)\n",
    "print(\"AUC:\",roc_auc_score(test_result,log_reg.predict_proba(test_data)[:,1]))"
   ]
  },
  {
   "cell_type": "code",
   "execution_count": 524,
   "id": "5ab95c06",
   "metadata": {},
   "outputs": [
    {
     "name": "stdout",
     "output_type": "stream",
     "text": [
      "RUNNING THE L-BFGS-B CODE\n",
      "\n",
      "           * * *\n",
      "\n",
      "Machine precision = 2.220D-16\n",
      " N =           99     M =           10\n",
      "\n",
      "At X0         0 variables are exactly at the bounds\n",
      "\n",
      "At iterate    0    f=  7.90188D+01    |proj g|=  6.75000D+01\n",
      "\n",
      "           * * *\n",
      "\n",
      "Tit   = total number of iterations\n",
      "Tnf   = total number of function evaluations\n",
      "Tnint = total number of segments explored during Cauchy searches\n",
      "Skip  = number of BFGS updates skipped\n",
      "Nact  = number of active bounds at final generalized Cauchy point\n",
      "Projg = norm of the final projected gradient\n",
      "F     = final function value\n",
      "\n",
      "           * * *\n",
      "\n",
      "   N    Tit     Tnf  Tnint  Skip  Nact     Projg        F\n",
      "   99     41     47      1     0     0   1.561D-03   2.287D+01\n",
      "  F =   22.870678858319550     \n",
      "\n",
      "CONVERGENCE: REL_REDUCTION_OF_F_<=_FACTR*EPSMCH             \n",
      "RUNNING THE L-BFGS-B CODE\n",
      "\n",
      "           * * *\n",
      "\n",
      "Machine precision = 2.220D-16\n",
      " N =           99     M =           10\n",
      "\n",
      "At X0         0 variables are exactly at the bounds\n",
      "\n",
      "At iterate    0    f=  7.90188D+01    |proj g|=  4.50000D+01\n",
      "\n",
      "           * * *\n",
      "\n",
      "Tit   = total number of iterations\n",
      "Tnf   = total number of function evaluations\n",
      "Tnint = total number of segments explored during Cauchy searches\n",
      "Skip  = number of BFGS updates skipped\n",
      "Nact  = number of active bounds at final generalized Cauchy point\n",
      "Projg = norm of the final projected gradient\n",
      "F     = final function value\n",
      "\n",
      "           * * *\n",
      "\n",
      "   N    Tit     Tnf  Tnint  Skip  Nact     Projg        F\n",
      "   99     43     51      1     0     0   2.559D-04   2.016D+01\n",
      "  F =   20.164243377893051     \n",
      "\n",
      "CONVERGENCE: REL_REDUCTION_OF_F_<=_FACTR*EPSMCH             \n",
      "RUNNING THE L-BFGS-B CODE\n",
      "\n",
      "           * * *\n",
      "\n",
      "Machine precision = 2.220D-16\n",
      " N =           99     M =           10\n",
      "\n",
      "At X0         0 variables are exactly at the bounds\n",
      "\n",
      "At iterate    0    f=  7.90188D+01    |proj g|=  5.00000D+01\n",
      "\n",
      "           * * *\n",
      "\n",
      "Tit   = total number of iterations\n",
      "Tnf   = total number of function evaluations\n",
      "Tnint = total number of segments explored during Cauchy searches\n",
      "Skip  = number of BFGS updates skipped\n",
      "Nact  = number of active bounds at final generalized Cauchy point\n",
      "Projg = norm of the final projected gradient\n",
      "F     = final function value\n",
      "\n",
      "           * * *\n",
      "\n",
      "   N    Tit     Tnf  Tnint  Skip  Nact     Projg        F\n",
      "   99     45     51      1     0     0   1.748D-04   2.353D+01\n",
      "  F =   23.528968271171436     \n",
      "\n",
      "CONVERGENCE: REL_REDUCTION_OF_F_<=_FACTR*EPSMCH             \n",
      "RUNNING THE L-BFGS-B CODE\n",
      "\n",
      "           * * *\n",
      "\n",
      "Machine precision = 2.220D-16\n",
      " N =           99     M =           10\n",
      "\n",
      "At X0         0 variables are exactly at the bounds\n",
      "\n",
      "At iterate    0    f=  7.90188D+01    |proj g|=  3.30000D+01\n",
      "\n",
      "           * * *\n",
      "\n",
      "Tit   = total number of iterations\n",
      "Tnf   = total number of function evaluations\n",
      "Tnint = total number of segments explored during Cauchy searches\n",
      "Skip  = number of BFGS updates skipped\n",
      "Nact  = number of active bounds at final generalized Cauchy point\n",
      "Projg = norm of the final projected gradient\n",
      "F     = final function value\n",
      "\n",
      "           * * *\n",
      "\n",
      "   N    Tit     Tnf  Tnint  Skip  Nact     Projg        F\n",
      "   99     38     42      1     0     0   5.888D-04   2.406D+01\n",
      "  F =   24.064587329753991     \n",
      "\n",
      "CONVERGENCE: REL_REDUCTION_OF_F_<=_FACTR*EPSMCH             \n"
     ]
    },
    {
     "name": "stderr",
     "output_type": "stream",
     "text": [
      "[Parallel(n_jobs=1)]: Using backend SequentialBackend with 1 concurrent workers.\n",
      " This problem is unconstrained.\n",
      "[Parallel(n_jobs=1)]: Done   1 out of   1 | elapsed:    0.1s finished\n",
      "[Parallel(n_jobs=1)]: Using backend SequentialBackend with 1 concurrent workers.\n",
      " This problem is unconstrained.\n",
      "[Parallel(n_jobs=1)]: Done   1 out of   1 | elapsed:    0.0s finished\n",
      "[Parallel(n_jobs=1)]: Using backend SequentialBackend with 1 concurrent workers.\n",
      " This problem is unconstrained.\n",
      "[Parallel(n_jobs=1)]: Done   1 out of   1 | elapsed:    0.0s finished\n",
      "[Parallel(n_jobs=1)]: Using backend SequentialBackend with 1 concurrent workers.\n",
      " This problem is unconstrained.\n",
      "[Parallel(n_jobs=1)]: Done   1 out of   1 | elapsed:    0.0s finished\n"
     ]
    },
    {
     "data": {
      "text/plain": [
       "array([0.81578947, 0.84210526, 0.92105263, 0.84210526])"
      ]
     },
     "execution_count": 524,
     "metadata": {},
     "output_type": "execute_result"
    }
   ],
   "source": [
    "cross_val_score(log_reg,train_data,train_result,scoring=\"accuracy\",cv = 4)"
   ]
  },
  {
   "cell_type": "markdown",
   "id": "22cb0a9c",
   "metadata": {},
   "source": [
    "## Random Forest Classifier"
   ]
  },
  {
   "cell_type": "markdown",
   "id": "0781dd2c",
   "metadata": {},
   "source": [
    "I will now use a random forest classifier using cross validation to avoid over fitting as well as grid searching for optimal number of estimators and max features choices."
   ]
  },
  {
   "cell_type": "code",
   "execution_count": 525,
   "id": "e98b91b2",
   "metadata": {},
   "outputs": [
    {
     "data": {
      "text/html": [
       "<style>#sk-container-id-7 {color: black;background-color: white;}#sk-container-id-7 pre{padding: 0;}#sk-container-id-7 div.sk-toggleable {background-color: white;}#sk-container-id-7 label.sk-toggleable__label {cursor: pointer;display: block;width: 100%;margin-bottom: 0;padding: 0.3em;box-sizing: border-box;text-align: center;}#sk-container-id-7 label.sk-toggleable__label-arrow:before {content: \"▸\";float: left;margin-right: 0.25em;color: #696969;}#sk-container-id-7 label.sk-toggleable__label-arrow:hover:before {color: black;}#sk-container-id-7 div.sk-estimator:hover label.sk-toggleable__label-arrow:before {color: black;}#sk-container-id-7 div.sk-toggleable__content {max-height: 0;max-width: 0;overflow: hidden;text-align: left;background-color: #f0f8ff;}#sk-container-id-7 div.sk-toggleable__content pre {margin: 0.2em;color: black;border-radius: 0.25em;background-color: #f0f8ff;}#sk-container-id-7 input.sk-toggleable__control:checked~div.sk-toggleable__content {max-height: 200px;max-width: 100%;overflow: auto;}#sk-container-id-7 input.sk-toggleable__control:checked~label.sk-toggleable__label-arrow:before {content: \"▾\";}#sk-container-id-7 div.sk-estimator input.sk-toggleable__control:checked~label.sk-toggleable__label {background-color: #d4ebff;}#sk-container-id-7 div.sk-label input.sk-toggleable__control:checked~label.sk-toggleable__label {background-color: #d4ebff;}#sk-container-id-7 input.sk-hidden--visually {border: 0;clip: rect(1px 1px 1px 1px);clip: rect(1px, 1px, 1px, 1px);height: 1px;margin: -1px;overflow: hidden;padding: 0;position: absolute;width: 1px;}#sk-container-id-7 div.sk-estimator {font-family: monospace;background-color: #f0f8ff;border: 1px dotted black;border-radius: 0.25em;box-sizing: border-box;margin-bottom: 0.5em;}#sk-container-id-7 div.sk-estimator:hover {background-color: #d4ebff;}#sk-container-id-7 div.sk-parallel-item::after {content: \"\";width: 100%;border-bottom: 1px solid gray;flex-grow: 1;}#sk-container-id-7 div.sk-label:hover label.sk-toggleable__label {background-color: #d4ebff;}#sk-container-id-7 div.sk-serial::before {content: \"\";position: absolute;border-left: 1px solid gray;box-sizing: border-box;top: 0;bottom: 0;left: 50%;z-index: 0;}#sk-container-id-7 div.sk-serial {display: flex;flex-direction: column;align-items: center;background-color: white;padding-right: 0.2em;padding-left: 0.2em;position: relative;}#sk-container-id-7 div.sk-item {position: relative;z-index: 1;}#sk-container-id-7 div.sk-parallel {display: flex;align-items: stretch;justify-content: center;background-color: white;position: relative;}#sk-container-id-7 div.sk-item::before, #sk-container-id-7 div.sk-parallel-item::before {content: \"\";position: absolute;border-left: 1px solid gray;box-sizing: border-box;top: 0;bottom: 0;left: 50%;z-index: -1;}#sk-container-id-7 div.sk-parallel-item {display: flex;flex-direction: column;z-index: 1;position: relative;background-color: white;}#sk-container-id-7 div.sk-parallel-item:first-child::after {align-self: flex-end;width: 50%;}#sk-container-id-7 div.sk-parallel-item:last-child::after {align-self: flex-start;width: 50%;}#sk-container-id-7 div.sk-parallel-item:only-child::after {width: 0;}#sk-container-id-7 div.sk-dashed-wrapped {border: 1px dashed gray;margin: 0 0.4em 0.5em 0.4em;box-sizing: border-box;padding-bottom: 0.4em;background-color: white;}#sk-container-id-7 div.sk-label label {font-family: monospace;font-weight: bold;display: inline-block;line-height: 1.2em;}#sk-container-id-7 div.sk-label-container {text-align: center;}#sk-container-id-7 div.sk-container {/* jupyter's `normalize.less` sets `[hidden] { display: none; }` but bootstrap.min.css set `[hidden] { display: none !important; }` so we also need the `!important` here to be able to override the default hidden behavior on the sphinx rendered scikit-learn.org. See: https://github.com/scikit-learn/scikit-learn/issues/21755 */display: inline-block !important;position: relative;}#sk-container-id-7 div.sk-text-repr-fallback {display: none;}</style><div id=\"sk-container-id-7\" class=\"sk-top-container\"><div class=\"sk-text-repr-fallback\"><pre>GridSearchCV(cv=5, estimator=RandomForestClassifier(),\n",
       "             param_grid=[{&#x27;max_features&#x27;: [2, 4, 6, 8, 10, 15, 20],\n",
       "                          &#x27;n_estimators&#x27;: [3, 10, 15, 20, 30, 40, 50, 60, 70]},\n",
       "                         {&#x27;bootstrap&#x27;: [False],\n",
       "                          &#x27;max_features&#x27;: [2, 3, 4, 6, 8, 10, 12, 14, 16, 18,\n",
       "                                           20],\n",
       "                          &#x27;n_estimators&#x27;: [3, 10, 15, 20, 30, 40, 50, 60, 70]}],\n",
       "             return_train_score=True, scoring=&#x27;accuracy&#x27;)</pre><b>In a Jupyter environment, please rerun this cell to show the HTML representation or trust the notebook. <br />On GitHub, the HTML representation is unable to render, please try loading this page with nbviewer.org.</b></div><div class=\"sk-container\" hidden><div class=\"sk-item sk-dashed-wrapped\"><div class=\"sk-label-container\"><div class=\"sk-label sk-toggleable\"><input class=\"sk-toggleable__control sk-hidden--visually\" id=\"sk-estimator-id-7\" type=\"checkbox\" ><label for=\"sk-estimator-id-7\" class=\"sk-toggleable__label sk-toggleable__label-arrow\">GridSearchCV</label><div class=\"sk-toggleable__content\"><pre>GridSearchCV(cv=5, estimator=RandomForestClassifier(),\n",
       "             param_grid=[{&#x27;max_features&#x27;: [2, 4, 6, 8, 10, 15, 20],\n",
       "                          &#x27;n_estimators&#x27;: [3, 10, 15, 20, 30, 40, 50, 60, 70]},\n",
       "                         {&#x27;bootstrap&#x27;: [False],\n",
       "                          &#x27;max_features&#x27;: [2, 3, 4, 6, 8, 10, 12, 14, 16, 18,\n",
       "                                           20],\n",
       "                          &#x27;n_estimators&#x27;: [3, 10, 15, 20, 30, 40, 50, 60, 70]}],\n",
       "             return_train_score=True, scoring=&#x27;accuracy&#x27;)</pre></div></div></div><div class=\"sk-parallel\"><div class=\"sk-parallel-item\"><div class=\"sk-item\"><div class=\"sk-label-container\"><div class=\"sk-label sk-toggleable\"><input class=\"sk-toggleable__control sk-hidden--visually\" id=\"sk-estimator-id-8\" type=\"checkbox\" ><label for=\"sk-estimator-id-8\" class=\"sk-toggleable__label sk-toggleable__label-arrow\">estimator: RandomForestClassifier</label><div class=\"sk-toggleable__content\"><pre>RandomForestClassifier()</pre></div></div></div><div class=\"sk-serial\"><div class=\"sk-item\"><div class=\"sk-estimator sk-toggleable\"><input class=\"sk-toggleable__control sk-hidden--visually\" id=\"sk-estimator-id-9\" type=\"checkbox\" ><label for=\"sk-estimator-id-9\" class=\"sk-toggleable__label sk-toggleable__label-arrow\">RandomForestClassifier</label><div class=\"sk-toggleable__content\"><pre>RandomForestClassifier()</pre></div></div></div></div></div></div></div></div></div></div>"
      ],
      "text/plain": [
       "GridSearchCV(cv=5, estimator=RandomForestClassifier(),\n",
       "             param_grid=[{'max_features': [2, 4, 6, 8, 10, 15, 20],\n",
       "                          'n_estimators': [3, 10, 15, 20, 30, 40, 50, 60, 70]},\n",
       "                         {'bootstrap': [False],\n",
       "                          'max_features': [2, 3, 4, 6, 8, 10, 12, 14, 16, 18,\n",
       "                                           20],\n",
       "                          'n_estimators': [3, 10, 15, 20, 30, 40, 50, 60, 70]}],\n",
       "             return_train_score=True, scoring='accuracy')"
      ]
     },
     "execution_count": 525,
     "metadata": {},
     "output_type": "execute_result"
    }
   ],
   "source": [
    "from sklearn.ensemble import RandomForestClassifier\n",
    "rf = RandomForestClassifier()\n",
    "from sklearn.model_selection import cross_validate\n",
    "\n",
    "param_grid = [{'n_estimators': [3,10,15,20,30,40,50,60,70], 'max_features':\n",
    "  [2,4,6,8,10,15,20]},{'bootstrap':[False],'n_estimators':[3,10,15,20,30,40,50,60,70],'max_features':\n",
    "  [2,3,4,6,8,10,12,14,16,18,20]},]\n",
    "\n",
    "grid_search_rf = GridSearchCV(rf, param_grid, cv=5,scoring='accuracy',return_train_score=True)\n",
    "grid_search_rf.fit(train_data,train_result)"
   ]
  },
  {
   "cell_type": "code",
   "execution_count": 527,
   "id": "98656480",
   "metadata": {},
   "outputs": [
    {
     "data": {
      "text/plain": [
       "{'bootstrap': False, 'max_features': 12, 'n_estimators': 20}"
      ]
     },
     "execution_count": 527,
     "metadata": {},
     "output_type": "execute_result"
    }
   ],
   "source": [
    "grid_search_rf.best_params_"
   ]
  },
  {
   "cell_type": "code",
   "execution_count": 526,
   "id": "cac287a8",
   "metadata": {},
   "outputs": [
    {
     "data": {
      "image/png": "[encoded data removed]",
      "text/plain": [
       "<Figure size 1080x360 with 4 Axes>"
      ]
     },
     "metadata": {
      "needs_background": "light"
     },
     "output_type": "display_data"
    }
   ],
   "source": [
    "plot_confusion(grid_search_rf)"
   ]
  },
  {
   "cell_type": "code",
   "execution_count": 528,
   "id": "aaa27143",
   "metadata": {},
   "outputs": [
    {
     "data": {
      "image/png": "[encoded data removed]",
      "text/plain": [
       "<Figure size 1080x360 with 1 Axes>"
      ]
     },
     "metadata": {
      "needs_background": "light"
     },
     "output_type": "display_data"
    }
   ],
   "source": [
    "precision, recall, thresholds = precision_recall_curve(test_result,grid_search_rf.predict_proba(test_data)[:,1])\n",
    "plot_prec_recall(precision,recall,thresholds)"
   ]
  },
  {
   "cell_type": "code",
   "execution_count": 598,
   "id": "b372cf97",
   "metadata": {},
   "outputs": [
    {
     "data": {
      "image/png": "[encoded data removed]",
      "text/plain": [
       "<Figure size 1080x360 with 1 Axes>"
      ]
     },
     "metadata": {
      "needs_background": "light"
     },
     "output_type": "display_data"
    },
    {
     "name": "stdout",
     "output_type": "stream",
     "text": [
      "AUC: 0.9458333333333333\n"
     ]
    }
   ],
   "source": [
    "fpr, tpr, thresholds = roc_curve(test_result,grid_search_rf.predict_proba(test_data)[:,1])\n",
    "plot_roc(fpr,tpr,thresholds)\n",
    "print(\"AUC:\",roc_auc_score(test_result,grid_search_rf.predict_proba(test_data)[:,1]))"
   ]
  },
  {
   "cell_type": "code",
   "execution_count": 606,
   "id": "3fc220bb",
   "metadata": {},
   "outputs": [
    {
     "name": "stdout",
     "output_type": "stream",
     "text": [
      "Recall: 0.9666666666666667\n",
      "Precision: 0.9666666666666667\n",
      "F1: 0.9666666666666667\n",
      "Accuracy: 0.9473684210526315\n"
     ]
    }
   ],
   "source": [
    "print_scores(log_reg.predict(test_data),test_result)"
   ]
  },
  {
   "cell_type": "code",
   "execution_count": 531,
   "id": "c6c54e74",
   "metadata": {},
   "outputs": [
    {
     "data": {
      "text/plain": [
       "array([0.84210526, 0.84210526, 0.94736842, 0.86842105])"
      ]
     },
     "execution_count": 531,
     "metadata": {},
     "output_type": "execute_result"
    }
   ],
   "source": [
    "cross_val_score(grid_search_rf,train_data,train_result,scoring=\"accuracy\",cv = 4)"
   ]
  },
  {
   "cell_type": "markdown",
   "id": "e65dcab3",
   "metadata": {},
   "source": [
    "## Naive Bayes"
   ]
  },
  {
   "cell_type": "markdown",
   "id": "27cca36c",
   "metadata": {},
   "source": [
    "We can use naive bayes to see how well the conditional independence assumption holds. This algorithm can be simple and scalable, making it a useful starting place."
   ]
  },
  {
   "cell_type": "code",
   "execution_count": 532,
   "id": "2fb360a6",
   "metadata": {},
   "outputs": [],
   "source": [
    "from sklearn.naive_bayes import GaussianNB"
   ]
  },
  {
   "cell_type": "code",
   "execution_count": 533,
   "id": "5792120c",
   "metadata": {},
   "outputs": [],
   "source": [
    "nb = GaussianNB()"
   ]
  },
  {
   "cell_type": "code",
   "execution_count": 534,
   "id": "2d3d3b9d",
   "metadata": {},
   "outputs": [
    {
     "data": {
      "text/html": [
       "<style>#sk-container-id-8 {color: black;background-color: white;}#sk-container-id-8 pre{padding: 0;}#sk-container-id-8 div.sk-toggleable {background-color: white;}#sk-container-id-8 label.sk-toggleable__label {cursor: pointer;display: block;width: 100%;margin-bottom: 0;padding: 0.3em;box-sizing: border-box;text-align: center;}#sk-container-id-8 label.sk-toggleable__label-arrow:before {content: \"▸\";float: left;margin-right: 0.25em;color: #696969;}#sk-container-id-8 label.sk-toggleable__label-arrow:hover:before {color: black;}#sk-container-id-8 div.sk-estimator:hover label.sk-toggleable__label-arrow:before {color: black;}#sk-container-id-8 div.sk-toggleable__content {max-height: 0;max-width: 0;overflow: hidden;text-align: left;background-color: #f0f8ff;}#sk-container-id-8 div.sk-toggleable__content pre {margin: 0.2em;color: black;border-radius: 0.25em;background-color: #f0f8ff;}#sk-container-id-8 input.sk-toggleable__control:checked~div.sk-toggleable__content {max-height: 200px;max-width: 100%;overflow: auto;}#sk-container-id-8 input.sk-toggleable__control:checked~label.sk-toggleable__label-arrow:before {content: \"▾\";}#sk-container-id-8 div.sk-estimator input.sk-toggleable__control:checked~label.sk-toggleable__label {background-color: #d4ebff;}#sk-container-id-8 div.sk-label input.sk-toggleable__control:checked~label.sk-toggleable__label {background-color: #d4ebff;}#sk-container-id-8 input.sk-hidden--visually {border: 0;clip: rect(1px 1px 1px 1px);clip: rect(1px, 1px, 1px, 1px);height: 1px;margin: -1px;overflow: hidden;padding: 0;position: absolute;width: 1px;}#sk-container-id-8 div.sk-estimator {font-family: monospace;background-color: #f0f8ff;border: 1px dotted black;border-radius: 0.25em;box-sizing: border-box;margin-bottom: 0.5em;}#sk-container-id-8 div.sk-estimator:hover {background-color: #d4ebff;}#sk-container-id-8 div.sk-parallel-item::after {content: \"\";width: 100%;border-bottom: 1px solid gray;flex-grow: 1;}#sk-container-id-8 div.sk-label:hover label.sk-toggleable__label {background-color: #d4ebff;}#sk-container-id-8 div.sk-serial::before {content: \"\";position: absolute;border-left: 1px solid gray;box-sizing: border-box;top: 0;bottom: 0;left: 50%;z-index: 0;}#sk-container-id-8 div.sk-serial {display: flex;flex-direction: column;align-items: center;background-color: white;padding-right: 0.2em;padding-left: 0.2em;position: relative;}#sk-container-id-8 div.sk-item {position: relative;z-index: 1;}#sk-container-id-8 div.sk-parallel {display: flex;align-items: stretch;justify-content: center;background-color: white;position: relative;}#sk-container-id-8 div.sk-item::before, #sk-container-id-8 div.sk-parallel-item::before {content: \"\";position: absolute;border-left: 1px solid gray;box-sizing: border-box;top: 0;bottom: 0;left: 50%;z-index: -1;}#sk-container-id-8 div.sk-parallel-item {display: flex;flex-direction: column;z-index: 1;position: relative;background-color: white;}#sk-container-id-8 div.sk-parallel-item:first-child::after {align-self: flex-end;width: 50%;}#sk-container-id-8 div.sk-parallel-item:last-child::after {align-self: flex-start;width: 50%;}#sk-container-id-8 div.sk-parallel-item:only-child::after {width: 0;}#sk-container-id-8 div.sk-dashed-wrapped {border: 1px dashed gray;margin: 0 0.4em 0.5em 0.4em;box-sizing: border-box;padding-bottom: 0.4em;background-color: white;}#sk-container-id-8 div.sk-label label {font-family: monospace;font-weight: bold;display: inline-block;line-height: 1.2em;}#sk-container-id-8 div.sk-label-container {text-align: center;}#sk-container-id-8 div.sk-container {/* jupyter's `normalize.less` sets `[hidden] { display: none; }` but bootstrap.min.css set `[hidden] { display: none !important; }` so we also need the `!important` here to be able to override the default hidden behavior on the sphinx rendered scikit-learn.org. See: https://github.com/scikit-learn/scikit-learn/issues/21755 */display: inline-block !important;position: relative;}#sk-container-id-8 div.sk-text-repr-fallback {display: none;}</style><div id=\"sk-container-id-8\" class=\"sk-top-container\"><div class=\"sk-text-repr-fallback\"><pre>GaussianNB()</pre><b>In a Jupyter environment, please rerun this cell to show the HTML representation or trust the notebook. <br />On GitHub, the HTML representation is unable to render, please try loading this page with nbviewer.org.</b></div><div class=\"sk-container\" hidden><div class=\"sk-item\"><div class=\"sk-estimator sk-toggleable\"><input class=\"sk-toggleable__control sk-hidden--visually\" id=\"sk-estimator-id-10\" type=\"checkbox\" checked><label for=\"sk-estimator-id-10\" class=\"sk-toggleable__label sk-toggleable__label-arrow\">GaussianNB</label><div class=\"sk-toggleable__content\"><pre>GaussianNB()</pre></div></div></div></div></div>"
      ],
      "text/plain": [
       "GaussianNB()"
      ]
     },
     "execution_count": 534,
     "metadata": {},
     "output_type": "execute_result"
    }
   ],
   "source": [
    "nb.fit(train_data,train_result)"
   ]
  },
  {
   "cell_type": "code",
   "execution_count": 538,
   "id": "8e957762",
   "metadata": {},
   "outputs": [
    {
     "data": {
      "image/png": "[encoded data removed]",
      "text/plain": [
       "<Figure size 1080x360 with 4 Axes>"
      ]
     },
     "metadata": {
      "needs_background": "light"
     },
     "output_type": "display_data"
    }
   ],
   "source": [
    "plot_confusion(nb)\n",
    "precision, recall, thresholds = precision_recall_curve(test_result,nb.predict_proba(test_data)[:,1])\n",
    "plot_prec_recall(precision,recall,thresholds)"
   ]
  },
  {
   "cell_type": "code",
   "execution_count": 539,
   "id": "848cab3d",
   "metadata": {},
   "outputs": [
    {
     "data": {
      "image/png": "[encoded data removed]",
      "text/plain": [
       "<Figure size 1080x360 with 1 Axes>"
      ]
     },
     "metadata": {
      "needs_background": "light"
     },
     "output_type": "display_data"
    }
   ],
   "source": [
    "precision, recall, thresholds = precision_recall_curve(test_result,nb.predict_proba(test_data)[:,1])\n",
    "plot_prec_recall(precision,recall,thresholds)"
   ]
  },
  {
   "cell_type": "code",
   "execution_count": 599,
   "id": "bca23d3a",
   "metadata": {},
   "outputs": [
    {
     "data": {
      "image/png": "[encoded data removed]",
      "text/plain": [
       "<Figure size 1080x360 with 1 Axes>"
      ]
     },
     "metadata": {
      "needs_background": "light"
     },
     "output_type": "display_data"
    },
    {
     "name": "stdout",
     "output_type": "stream",
     "text": [
      "AUC: 0.875\n"
     ]
    }
   ],
   "source": [
    "fpr, tpr, thresholds = roc_curve(test_result,nb.predict_proba(test_data)[:,1])\n",
    "plot_roc(fpr,tpr,thresholds)\n",
    "print(\"AUC:\",roc_auc_score(test_result,nb.predict_proba(test_data)[:,1]))"
   ]
  },
  {
   "cell_type": "code",
   "execution_count": 607,
   "id": "b8f860e2",
   "metadata": {},
   "outputs": [
    {
     "name": "stdout",
     "output_type": "stream",
     "text": [
      "Recall: 0.9375\n",
      "Precision: 1.0\n",
      "F1: 0.967741935483871\n",
      "Accuracy: 0.9473684210526315\n"
     ]
    }
   ],
   "source": [
    "print_scores(nb.predict(test_data),test_result)"
   ]
  },
  {
   "cell_type": "markdown",
   "id": "9a4151ab",
   "metadata": {},
   "source": [
    "## K nn"
   ]
  },
  {
   "cell_type": "markdown",
   "id": "8c75d47e",
   "metadata": {},
   "source": [
    "Implement K-nearest neighbor classifier, could be useful if data is not well modeled linearly (although it seems that it can be)."
   ]
  },
  {
   "cell_type": "code",
   "execution_count": 546,
   "id": "32baf820",
   "metadata": {},
   "outputs": [
    {
     "data": {
      "text/html": [
       "<style>#sk-container-id-10 {color: black;background-color: white;}#sk-container-id-10 pre{padding: 0;}#sk-container-id-10 div.sk-toggleable {background-color: white;}#sk-container-id-10 label.sk-toggleable__label {cursor: pointer;display: block;width: 100%;margin-bottom: 0;padding: 0.3em;box-sizing: border-box;text-align: center;}#sk-container-id-10 label.sk-toggleable__label-arrow:before {content: \"▸\";float: left;margin-right: 0.25em;color: #696969;}#sk-container-id-10 label.sk-toggleable__label-arrow:hover:before {color: black;}#sk-container-id-10 div.sk-estimator:hover label.sk-toggleable__label-arrow:before {color: black;}#sk-container-id-10 div.sk-toggleable__content {max-height: 0;max-width: 0;overflow: hidden;text-align: left;background-color: #f0f8ff;}#sk-container-id-10 div.sk-toggleable__content pre {margin: 0.2em;color: black;border-radius: 0.25em;background-color: #f0f8ff;}#sk-container-id-10 input.sk-toggleable__control:checked~div.sk-toggleable__content {max-height: 200px;max-width: 100%;overflow: auto;}#sk-container-id-10 input.sk-toggleable__control:checked~label.sk-toggleable__label-arrow:before {content: \"▾\";}#sk-container-id-10 div.sk-estimator input.sk-toggleable__control:checked~label.sk-toggleable__label {background-color: #d4ebff;}#sk-container-id-10 div.sk-label input.sk-toggleable__control:checked~label.sk-toggleable__label {background-color: #d4ebff;}#sk-container-id-10 input.sk-hidden--visually {border: 0;clip: rect(1px 1px 1px 1px);clip: rect(1px, 1px, 1px, 1px);height: 1px;margin: -1px;overflow: hidden;padding: 0;position: absolute;width: 1px;}#sk-container-id-10 div.sk-estimator {font-family: monospace;background-color: #f0f8ff;border: 1px dotted black;border-radius: 0.25em;box-sizing: border-box;margin-bottom: 0.5em;}#sk-container-id-10 div.sk-estimator:hover {background-color: #d4ebff;}#sk-container-id-10 div.sk-parallel-item::after {content: \"\";width: 100%;border-bottom: 1px solid gray;flex-grow: 1;}#sk-container-id-10 div.sk-label:hover label.sk-toggleable__label {background-color: #d4ebff;}#sk-container-id-10 div.sk-serial::before {content: \"\";position: absolute;border-left: 1px solid gray;box-sizing: border-box;top: 0;bottom: 0;left: 50%;z-index: 0;}#sk-container-id-10 div.sk-serial {display: flex;flex-direction: column;align-items: center;background-color: white;padding-right: 0.2em;padding-left: 0.2em;position: relative;}#sk-container-id-10 div.sk-item {position: relative;z-index: 1;}#sk-container-id-10 div.sk-parallel {display: flex;align-items: stretch;justify-content: center;background-color: white;position: relative;}#sk-container-id-10 div.sk-item::before, #sk-container-id-10 div.sk-parallel-item::before {content: \"\";position: absolute;border-left: 1px solid gray;box-sizing: border-box;top: 0;bottom: 0;left: 50%;z-index: -1;}#sk-container-id-10 div.sk-parallel-item {display: flex;flex-direction: column;z-index: 1;position: relative;background-color: white;}#sk-container-id-10 div.sk-parallel-item:first-child::after {align-self: flex-end;width: 50%;}#sk-container-id-10 div.sk-parallel-item:last-child::after {align-self: flex-start;width: 50%;}#sk-container-id-10 div.sk-parallel-item:only-child::after {width: 0;}#sk-container-id-10 div.sk-dashed-wrapped {border: 1px dashed gray;margin: 0 0.4em 0.5em 0.4em;box-sizing: border-box;padding-bottom: 0.4em;background-color: white;}#sk-container-id-10 div.sk-label label {font-family: monospace;font-weight: bold;display: inline-block;line-height: 1.2em;}#sk-container-id-10 div.sk-label-container {text-align: center;}#sk-container-id-10 div.sk-container {/* jupyter's `normalize.less` sets `[hidden] { display: none; }` but bootstrap.min.css set `[hidden] { display: none !important; }` so we also need the `!important` here to be able to override the default hidden behavior on the sphinx rendered scikit-learn.org. See: https://github.com/scikit-learn/scikit-learn/issues/21755 */display: inline-block !important;position: relative;}#sk-container-id-10 div.sk-text-repr-fallback {display: none;}</style><div id=\"sk-container-id-10\" class=\"sk-top-container\"><div class=\"sk-text-repr-fallback\"><pre>GridSearchCV(cv=3, estimator=KNeighborsClassifier(),\n",
       "             param_grid=[{&#x27;n_neighbors&#x27;: range(3, 10),\n",
       "                          &#x27;weights&#x27;: [&#x27;distance&#x27;]}],\n",
       "             return_train_score=True, scoring=&#x27;accuracy&#x27;)</pre><b>In a Jupyter environment, please rerun this cell to show the HTML representation or trust the notebook. <br />On GitHub, the HTML representation is unable to render, please try loading this page with nbviewer.org.</b></div><div class=\"sk-container\" hidden><div class=\"sk-item sk-dashed-wrapped\"><div class=\"sk-label-container\"><div class=\"sk-label sk-toggleable\"><input class=\"sk-toggleable__control sk-hidden--visually\" id=\"sk-estimator-id-14\" type=\"checkbox\" ><label for=\"sk-estimator-id-14\" class=\"sk-toggleable__label sk-toggleable__label-arrow\">GridSearchCV</label><div class=\"sk-toggleable__content\"><pre>GridSearchCV(cv=3, estimator=KNeighborsClassifier(),\n",
       "             param_grid=[{&#x27;n_neighbors&#x27;: range(3, 10),\n",
       "                          &#x27;weights&#x27;: [&#x27;distance&#x27;]}],\n",
       "             return_train_score=True, scoring=&#x27;accuracy&#x27;)</pre></div></div></div><div class=\"sk-parallel\"><div class=\"sk-parallel-item\"><div class=\"sk-item\"><div class=\"sk-label-container\"><div class=\"sk-label sk-toggleable\"><input class=\"sk-toggleable__control sk-hidden--visually\" id=\"sk-estimator-id-15\" type=\"checkbox\" ><label for=\"sk-estimator-id-15\" class=\"sk-toggleable__label sk-toggleable__label-arrow\">estimator: KNeighborsClassifier</label><div class=\"sk-toggleable__content\"><pre>KNeighborsClassifier()</pre></div></div></div><div class=\"sk-serial\"><div class=\"sk-item\"><div class=\"sk-estimator sk-toggleable\"><input class=\"sk-toggleable__control sk-hidden--visually\" id=\"sk-estimator-id-16\" type=\"checkbox\" ><label for=\"sk-estimator-id-16\" class=\"sk-toggleable__label sk-toggleable__label-arrow\">KNeighborsClassifier</label><div class=\"sk-toggleable__content\"><pre>KNeighborsClassifier()</pre></div></div></div></div></div></div></div></div></div></div>"
      ],
      "text/plain": [
       "GridSearchCV(cv=3, estimator=KNeighborsClassifier(),\n",
       "             param_grid=[{'n_neighbors': range(3, 10),\n",
       "                          'weights': ['distance']}],\n",
       "             return_train_score=True, scoring='accuracy')"
      ]
     },
     "execution_count": 546,
     "metadata": {},
     "output_type": "execute_result"
    }
   ],
   "source": [
    "from sklearn.neighbors import KNeighborsClassifier\n",
    "param_grid = [{'n_neighbors': range(3,10), 'weights':\n",
    "  ['distance']}]\n",
    "\n",
    "k_neigh = KNeighborsClassifier()\n",
    "\n",
    "\n",
    "grid_search_knn = GridSearchCV(k_neigh, param_grid, cv=3,scoring='accuracy',return_train_score=True,refit=True)\n",
    "grid_search_knn.fit(train_data,train_result)"
   ]
  },
  {
   "cell_type": "code",
   "execution_count": 683,
   "id": "0edb1c78",
   "metadata": {},
   "outputs": [
    {
     "data": {
      "text/plain": [
       "5.0"
      ]
     },
     "execution_count": 683,
     "metadata": {},
     "output_type": "execute_result"
    }
   ],
   "source": [
    "np.floor(np.log(len(train_data))) # rule of thumb for number of neighbors"
   ]
  },
  {
   "cell_type": "code",
   "execution_count": 684,
   "id": "8c1f57de",
   "metadata": {},
   "outputs": [
    {
     "data": {
      "text/plain": [
       "{'n_neighbors': 9, 'weights': 'distance'}"
      ]
     },
     "execution_count": 684,
     "metadata": {},
     "output_type": "execute_result"
    }
   ],
   "source": [
    "grid_search_knn.best_params_"
   ]
  },
  {
   "cell_type": "code",
   "execution_count": 567,
   "id": "41929c6d",
   "metadata": {},
   "outputs": [
    {
     "data": {
      "image/png": "[encoded data removed]",
      "text/plain": [
       "<Figure size 1080x360 with 4 Axes>"
      ]
     },
     "metadata": {
      "needs_background": "light"
     },
     "output_type": "display_data"
    }
   ],
   "source": [
    "plot_confusion(grid_search_knn)"
   ]
  },
  {
   "cell_type": "code",
   "execution_count": 556,
   "id": "fa7ca885",
   "metadata": {},
   "outputs": [
    {
     "data": {
      "image/png": "[encoded data removed]",
      "text/plain": [
       "<Figure size 1080x360 with 1 Axes>"
      ]
     },
     "metadata": {
      "needs_background": "light"
     },
     "output_type": "display_data"
    }
   ],
   "source": [
    "precision, recall, thresholds = precision_recall_curve(test_result,grid_search_knn.predict_proba(test_data)[:,1])\n",
    "plot_prec_recall(precision,recall,thresholds)"
   ]
  },
  {
   "cell_type": "code",
   "execution_count": 600,
   "id": "e3b49d60",
   "metadata": {},
   "outputs": [
    {
     "data": {
      "image/png": "[encoded data removed]",
      "text/plain": [
       "<Figure size 1080x360 with 1 Axes>"
      ]
     },
     "metadata": {
      "needs_background": "light"
     },
     "output_type": "display_data"
    },
    {
     "name": "stdout",
     "output_type": "stream",
     "text": [
      "AUC: 0.8229166666666666\n"
     ]
    }
   ],
   "source": [
    "fpr, tpr, thresholds = roc_curve(test_result,grid_search_knn.predict_proba(test_data)[:,1])\n",
    "plot_roc(fpr,tpr,thresholds)\n",
    "print(\"AUC:\",roc_auc_score(test_result,grid_search_knn.predict_proba(test_data)[:,1]))"
   ]
  },
  {
   "cell_type": "code",
   "execution_count": 608,
   "id": "4f61aea9",
   "metadata": {},
   "outputs": [
    {
     "name": "stdout",
     "output_type": "stream",
     "text": [
      "Recall: 0.8529411764705882\n",
      "Precision: 0.9666666666666667\n",
      "F1: 0.90625\n",
      "Accuracy: 0.8421052631578947\n"
     ]
    }
   ],
   "source": [
    "print_scores(grid_search_knn.predict(test_data),test_result)"
   ]
  },
  {
   "cell_type": "markdown",
   "id": "a4da9a8a",
   "metadata": {},
   "source": [
    "## Voting Classifier"
   ]
  },
  {
   "cell_type": "markdown",
   "id": "6894b36a",
   "metadata": {},
   "source": [
    "I will now employ a common ensemble method combing the all of the previous models in a soft average (combing the probabilities rather than just the \"votes\") leaving out the K nearest neighbors model because it seemed to perform worse than the other three."
   ]
  },
  {
   "cell_type": "code",
   "execution_count": 551,
   "id": "adcdda38",
   "metadata": {},
   "outputs": [],
   "source": [
    "from sklearn.ensemble import VotingClassifier"
   ]
  },
  {
   "cell_type": "code",
   "execution_count": 568,
   "id": "61136cc9",
   "metadata": {},
   "outputs": [],
   "source": [
    "vote = VotingClassifier(voting=\"soft\",estimators=[(\"lr\",log_reg),(\"rf\",grid_search_rf),(\"nb\",nb)])\n"
   ]
  },
  {
   "cell_type": "code",
   "execution_count": 569,
   "id": "b03fb6a6",
   "metadata": {},
   "outputs": [
    {
     "name": "stderr",
     "output_type": "stream",
     "text": [
      "[Parallel(n_jobs=1)]: Using backend SequentialBackend with 1 concurrent workers.\n",
      " This problem is unconstrained.\n"
     ]
    },
    {
     "name": "stdout",
     "output_type": "stream",
     "text": [
      "RUNNING THE L-BFGS-B CODE\n",
      "\n",
      "           * * *\n",
      "\n",
      "Machine precision = 2.220D-16\n",
      " N =           99     M =           10\n",
      "\n",
      "At X0         0 variables are exactly at the bounds\n",
      "\n",
      "At iterate    0    f=  1.05358D+02    |proj g|=  6.50000D+01\n",
      "\n",
      "           * * *\n",
      "\n",
      "Tit   = total number of iterations\n",
      "Tnf   = total number of function evaluations\n",
      "Tnint = total number of segments explored during Cauchy searches\n",
      "Skip  = number of BFGS updates skipped\n",
      "Nact  = number of active bounds at final generalized Cauchy point\n",
      "Projg = norm of the final projected gradient\n",
      "F     = final function value\n",
      "\n",
      "           * * *\n",
      "\n",
      "   N    Tit     Tnf  Tnint  Skip  Nact     Projg        F\n",
      "   99     46     49      1     0     0   3.271D-04   2.986D+01\n",
      "  F =   29.856098344116013     \n",
      "\n",
      "CONVERGENCE: REL_REDUCTION_OF_F_<=_FACTR*EPSMCH             \n"
     ]
    },
    {
     "name": "stderr",
     "output_type": "stream",
     "text": [
      "[Parallel(n_jobs=1)]: Done   1 out of   1 | elapsed:    0.3s finished\n"
     ]
    },
    {
     "data": {
      "text/html": [
       "<style>#sk-container-id-12 {color: black;background-color: white;}#sk-container-id-12 pre{padding: 0;}#sk-container-id-12 div.sk-toggleable {background-color: white;}#sk-container-id-12 label.sk-toggleable__label {cursor: pointer;display: block;width: 100%;margin-bottom: 0;padding: 0.3em;box-sizing: border-box;text-align: center;}#sk-container-id-12 label.sk-toggleable__label-arrow:before {content: \"▸\";float: left;margin-right: 0.25em;color: #696969;}#sk-container-id-12 label.sk-toggleable__label-arrow:hover:before {color: black;}#sk-container-id-12 div.sk-estimator:hover label.sk-toggleable__label-arrow:before {color: black;}#sk-container-id-12 div.sk-toggleable__content {max-height: 0;max-width: 0;overflow: hidden;text-align: left;background-color: #f0f8ff;}#sk-container-id-12 div.sk-toggleable__content pre {margin: 0.2em;color: black;border-radius: 0.25em;background-color: #f0f8ff;}#sk-container-id-12 input.sk-toggleable__control:checked~div.sk-toggleable__content {max-height: 200px;max-width: 100%;overflow: auto;}#sk-container-id-12 input.sk-toggleable__control:checked~label.sk-toggleable__label-arrow:before {content: \"▾\";}#sk-container-id-12 div.sk-estimator input.sk-toggleable__control:checked~label.sk-toggleable__label {background-color: #d4ebff;}#sk-container-id-12 div.sk-label input.sk-toggleable__control:checked~label.sk-toggleable__label {background-color: #d4ebff;}#sk-container-id-12 input.sk-hidden--visually {border: 0;clip: rect(1px 1px 1px 1px);clip: rect(1px, 1px, 1px, 1px);height: 1px;margin: -1px;overflow: hidden;padding: 0;position: absolute;width: 1px;}#sk-container-id-12 div.sk-estimator {font-family: monospace;background-color: #f0f8ff;border: 1px dotted black;border-radius: 0.25em;box-sizing: border-box;margin-bottom: 0.5em;}#sk-container-id-12 div.sk-estimator:hover {background-color: #d4ebff;}#sk-container-id-12 div.sk-parallel-item::after {content: \"\";width: 100%;border-bottom: 1px solid gray;flex-grow: 1;}#sk-container-id-12 div.sk-label:hover label.sk-toggleable__label {background-color: #d4ebff;}#sk-container-id-12 div.sk-serial::before {content: \"\";position: absolute;border-left: 1px solid gray;box-sizing: border-box;top: 0;bottom: 0;left: 50%;z-index: 0;}#sk-container-id-12 div.sk-serial {display: flex;flex-direction: column;align-items: center;background-color: white;padding-right: 0.2em;padding-left: 0.2em;position: relative;}#sk-container-id-12 div.sk-item {position: relative;z-index: 1;}#sk-container-id-12 div.sk-parallel {display: flex;align-items: stretch;justify-content: center;background-color: white;position: relative;}#sk-container-id-12 div.sk-item::before, #sk-container-id-12 div.sk-parallel-item::before {content: \"\";position: absolute;border-left: 1px solid gray;box-sizing: border-box;top: 0;bottom: 0;left: 50%;z-index: -1;}#sk-container-id-12 div.sk-parallel-item {display: flex;flex-direction: column;z-index: 1;position: relative;background-color: white;}#sk-container-id-12 div.sk-parallel-item:first-child::after {align-self: flex-end;width: 50%;}#sk-container-id-12 div.sk-parallel-item:last-child::after {align-self: flex-start;width: 50%;}#sk-container-id-12 div.sk-parallel-item:only-child::after {width: 0;}#sk-container-id-12 div.sk-dashed-wrapped {border: 1px dashed gray;margin: 0 0.4em 0.5em 0.4em;box-sizing: border-box;padding-bottom: 0.4em;background-color: white;}#sk-container-id-12 div.sk-label label {font-family: monospace;font-weight: bold;display: inline-block;line-height: 1.2em;}#sk-container-id-12 div.sk-label-container {text-align: center;}#sk-container-id-12 div.sk-container {/* jupyter's `normalize.less` sets `[hidden] { display: none; }` but bootstrap.min.css set `[hidden] { display: none !important; }` so we also need the `!important` here to be able to override the default hidden behavior on the sphinx rendered scikit-learn.org. See: https://github.com/scikit-learn/scikit-learn/issues/21755 */display: inline-block !important;position: relative;}#sk-container-id-12 div.sk-text-repr-fallback {display: none;}</style><div id=\"sk-container-id-12\" class=\"sk-top-container\"><div class=\"sk-text-repr-fallback\"><pre>VotingClassifier(estimators=[(&#x27;lr&#x27;,\n",
       "                              LogisticRegression(max_iter=10000.0, verbose=1)),\n",
       "                             (&#x27;rf&#x27;,\n",
       "                              GridSearchCV(cv=5,\n",
       "                                           estimator=RandomForestClassifier(),\n",
       "                                           param_grid=[{&#x27;max_features&#x27;: [2, 4,\n",
       "                                                                         6, 8,\n",
       "                                                                         10, 15,\n",
       "                                                                         20],\n",
       "                                                        &#x27;n_estimators&#x27;: [3, 10,\n",
       "                                                                         15, 20,\n",
       "                                                                         30, 40,\n",
       "                                                                         50, 60,\n",
       "                                                                         70]},\n",
       "                                                       {&#x27;bootstrap&#x27;: [False],\n",
       "                                                        &#x27;max_features&#x27;: [2, 3,\n",
       "                                                                         4, 6,\n",
       "                                                                         8, 10,\n",
       "                                                                         12, 14,\n",
       "                                                                         16, 18,\n",
       "                                                                         20],\n",
       "                                                        &#x27;n_estimators&#x27;: [3, 10,\n",
       "                                                                         15, 20,\n",
       "                                                                         30, 40,\n",
       "                                                                         50, 60,\n",
       "                                                                         70]}],\n",
       "                                           return_train_score=True,\n",
       "                                           scoring=&#x27;accuracy&#x27;)),\n",
       "                             (&#x27;nb&#x27;, GaussianNB())],\n",
       "                 voting=&#x27;soft&#x27;)</pre><b>In a Jupyter environment, please rerun this cell to show the HTML representation or trust the notebook. <br />On GitHub, the HTML representation is unable to render, please try loading this page with nbviewer.org.</b></div><div class=\"sk-container\" hidden><div class=\"sk-item sk-dashed-wrapped\"><div class=\"sk-label-container\"><div class=\"sk-label sk-toggleable\"><input class=\"sk-toggleable__control sk-hidden--visually\" id=\"sk-estimator-id-24\" type=\"checkbox\" ><label for=\"sk-estimator-id-24\" class=\"sk-toggleable__label sk-toggleable__label-arrow\">VotingClassifier</label><div class=\"sk-toggleable__content\"><pre>VotingClassifier(estimators=[(&#x27;lr&#x27;,\n",
       "                              LogisticRegression(max_iter=10000.0, verbose=1)),\n",
       "                             (&#x27;rf&#x27;,\n",
       "                              GridSearchCV(cv=5,\n",
       "                                           estimator=RandomForestClassifier(),\n",
       "                                           param_grid=[{&#x27;max_features&#x27;: [2, 4,\n",
       "                                                                         6, 8,\n",
       "                                                                         10, 15,\n",
       "                                                                         20],\n",
       "                                                        &#x27;n_estimators&#x27;: [3, 10,\n",
       "                                                                         15, 20,\n",
       "                                                                         30, 40,\n",
       "                                                                         50, 60,\n",
       "                                                                         70]},\n",
       "                                                       {&#x27;bootstrap&#x27;: [False],\n",
       "                                                        &#x27;max_features&#x27;: [2, 3,\n",
       "                                                                         4, 6,\n",
       "                                                                         8, 10,\n",
       "                                                                         12, 14,\n",
       "                                                                         16, 18,\n",
       "                                                                         20],\n",
       "                                                        &#x27;n_estimators&#x27;: [3, 10,\n",
       "                                                                         15, 20,\n",
       "                                                                         30, 40,\n",
       "                                                                         50, 60,\n",
       "                                                                         70]}],\n",
       "                                           return_train_score=True,\n",
       "                                           scoring=&#x27;accuracy&#x27;)),\n",
       "                             (&#x27;nb&#x27;, GaussianNB())],\n",
       "                 voting=&#x27;soft&#x27;)</pre></div></div></div><div class=\"sk-parallel\"><div class=\"sk-parallel-item\"><div class=\"sk-item\"><div class=\"sk-label-container\"><div class=\"sk-label sk-toggleable\"><label>lr</label></div></div><div class=\"sk-serial\"><div class=\"sk-item\"><div class=\"sk-estimator sk-toggleable\"><input class=\"sk-toggleable__control sk-hidden--visually\" id=\"sk-estimator-id-25\" type=\"checkbox\" ><label for=\"sk-estimator-id-25\" class=\"sk-toggleable__label sk-toggleable__label-arrow\">LogisticRegression</label><div class=\"sk-toggleable__content\"><pre>LogisticRegression(max_iter=10000.0, verbose=1)</pre></div></div></div></div></div></div><div class=\"sk-parallel-item\"><div class=\"sk-item\"><div class=\"sk-label-container\"><div class=\"sk-label sk-toggleable\"><label>rf</label></div></div><div class=\"sk-serial\"><div class=\"sk-item sk-dashed-wrapped\"><div class=\"sk-parallel\"><div class=\"sk-parallel-item\"><div class=\"sk-item\"><div class=\"sk-label-container\"><div class=\"sk-label sk-toggleable\"><input class=\"sk-toggleable__control sk-hidden--visually\" id=\"sk-estimator-id-26\" type=\"checkbox\" ><label for=\"sk-estimator-id-26\" class=\"sk-toggleable__label sk-toggleable__label-arrow\">estimator: RandomForestClassifier</label><div class=\"sk-toggleable__content\"><pre>RandomForestClassifier()</pre></div></div></div><div class=\"sk-serial\"><div class=\"sk-item\"><div class=\"sk-estimator sk-toggleable\"><input class=\"sk-toggleable__control sk-hidden--visually\" id=\"sk-estimator-id-27\" type=\"checkbox\" ><label for=\"sk-estimator-id-27\" class=\"sk-toggleable__label sk-toggleable__label-arrow\">RandomForestClassifier</label><div class=\"sk-toggleable__content\"><pre>RandomForestClassifier()</pre></div></div></div></div></div></div></div></div></div></div></div><div class=\"sk-parallel-item\"><div class=\"sk-item\"><div class=\"sk-label-container\"><div class=\"sk-label sk-toggleable\"><label>nb</label></div></div><div class=\"sk-serial\"><div class=\"sk-item\"><div class=\"sk-estimator sk-toggleable\"><input class=\"sk-toggleable__control sk-hidden--visually\" id=\"sk-estimator-id-28\" type=\"checkbox\" ><label for=\"sk-estimator-id-28\" class=\"sk-toggleable__label sk-toggleable__label-arrow\">GaussianNB</label><div class=\"sk-toggleable__content\"><pre>GaussianNB()</pre></div></div></div></div></div></div></div></div></div></div>"
      ],
      "text/plain": [
       "VotingClassifier(estimators=[('lr',\n",
       "                              LogisticRegression(max_iter=10000.0, verbose=1)),\n",
       "                             ('rf',\n",
       "                              GridSearchCV(cv=5,\n",
       "                                           estimator=RandomForestClassifier(),\n",
       "                                           param_grid=[{'max_features': [2, 4,\n",
       "                                                                         6, 8,\n",
       "                                                                         10, 15,\n",
       "                                                                         20],\n",
       "                                                        'n_estimators': [3, 10,\n",
       "                                                                         15, 20,\n",
       "                                                                         30, 40,\n",
       "                                                                         50, 60,\n",
       "                                                                         70]},\n",
       "                                                       {'bootstrap': [False],\n",
       "                                                        'max_features': [2, 3,\n",
       "                                                                         4, 6,\n",
       "                                                                         8, 10,\n",
       "                                                                         12, 14,\n",
       "                                                                         16, 18,\n",
       "                                                                         20],\n",
       "                                                        'n_estimators': [3, 10,\n",
       "                                                                         15, 20,\n",
       "                                                                         30, 40,\n",
       "                                                                         50, 60,\n",
       "                                                                         70]}],\n",
       "                                           return_train_score=True,\n",
       "                                           scoring='accuracy')),\n",
       "                             ('nb', GaussianNB())],\n",
       "                 voting='soft')"
      ]
     },
     "execution_count": 569,
     "metadata": {},
     "output_type": "execute_result"
    }
   ],
   "source": [
    "vote.fit(train_data,train_result)"
   ]
  },
  {
   "cell_type": "code",
   "execution_count": 680,
   "id": "a9804753",
   "metadata": {},
   "outputs": [
    {
     "data": {
      "image/png": "[encoded data removed]",
      "text/plain": [
       "<Figure size 1080x360 with 4 Axes>"
      ]
     },
     "metadata": {
      "needs_background": "light"
     },
     "output_type": "display_data"
    }
   ],
   "source": [
    "plot_confusion(vote)"
   ]
  },
  {
   "cell_type": "code",
   "execution_count": 571,
   "id": "d55e5565",
   "metadata": {},
   "outputs": [
    {
     "data": {
      "image/png": "[encoded data removed]",
      "text/plain": [
       "<Figure size 1080x360 with 1 Axes>"
      ]
     },
     "metadata": {
      "needs_background": "light"
     },
     "output_type": "display_data"
    }
   ],
   "source": [
    "precision, recall, thresholds = precision_recall_curve(test_result,vote.predict_proba(test_data)[:,1])\n",
    "plot_prec_recall(precision,recall,thresholds)"
   ]
  },
  {
   "cell_type": "code",
   "execution_count": 601,
   "id": "6faba59e",
   "metadata": {},
   "outputs": [
    {
     "data": {
      "image/png": "[encoded data removed]",
      "text/plain": [
       "<Figure size 1080x360 with 1 Axes>"
      ]
     },
     "metadata": {
      "needs_background": "light"
     },
     "output_type": "display_data"
    },
    {
     "name": "stdout",
     "output_type": "stream",
     "text": [
      "AUC: 0.9875\n"
     ]
    }
   ],
   "source": [
    "fpr, tpr, thresholds = roc_curve(test_result,vote.predict_proba(test_data)[:,1])\n",
    "plot_roc(fpr,tpr,thresholds)\n",
    "print(\"AUC:\",roc_auc_score(test_result,vote.predict_proba(test_data)[:,1]))"
   ]
  },
  {
   "cell_type": "code",
   "execution_count": 609,
   "id": "1f5ab74a",
   "metadata": {},
   "outputs": [
    {
     "name": "stdout",
     "output_type": "stream",
     "text": [
      "Recall: 0.9375\n",
      "Precision: 1.0\n",
      "F1: 0.967741935483871\n",
      "Accuracy: 0.9473684210526315\n"
     ]
    }
   ],
   "source": [
    "print_scores(vote.predict(test_data),test_result)"
   ]
  },
  {
   "cell_type": "markdown",
   "id": "d8b39848",
   "metadata": {},
   "source": [
    "# Summary"
   ]
  },
  {
   "cell_type": "markdown",
   "id": "b2ab3470",
   "metadata": {},
   "source": [
    "I will begin by summarizing the relevant metrics I have chosen: precision, recall, accuracy, f1, and area under the roc curve, to see how each model ranked within each metric."
   ]
  },
  {
   "cell_type": "code",
   "execution_count": 612,
   "id": "02e66ede",
   "metadata": {},
   "outputs": [],
   "source": [
    "model_list = [log_reg,grid_search_rf,grid_search_knn,nb,vote]"
   ]
  },
  {
   "cell_type": "code",
   "execution_count": 619,
   "id": "89dd9964",
   "metadata": {},
   "outputs": [],
   "source": [
    "prec, rec, f1, acc,auc,names = [],[],[],[],[],[]\n",
    "for model in model_list:\n",
    "    names.append( type(model).__name__)\n",
    "    prec.append(precision_score(model.predict(test_data),test_result))\n",
    "    rec.append(recall_score(model.predict(test_data),test_result))\n",
    "    f1.append(f1_score(model.predict(test_data),test_result))\n",
    "    acc.append(accuracy_score(model.predict(test_data),test_result))\n",
    "    auc.append(roc_auc_score(model.predict(test_data),test_result))\n",
    "    "
   ]
  },
  {
   "cell_type": "code",
   "execution_count": 615,
   "id": "a4953986",
   "metadata": {},
   "outputs": [
    {
     "name": "stdout",
     "output_type": "stream",
     "text": [
      "Precision scores:\n",
      "0.9666666666666667 LogisticRegression\n",
      "0.9666666666666667 GridSearchCV\n",
      "1.0 GridSearchCV\n",
      "1.0 GaussianNB\n",
      "1.0 VotingClassifier\n"
     ]
    }
   ],
   "source": [
    "index_ = np.argsort(prec)\n",
    "print(\"Precision scores:\")\n",
    "for i in index_:\n",
    "    print(prec[i],names[i])\n"
   ]
  },
  {
   "cell_type": "code",
   "execution_count": 616,
   "id": "e41c925f",
   "metadata": {},
   "outputs": [
    {
     "name": "stdout",
     "output_type": "stream",
     "text": [
      "Recall scores:\n",
      "0.8529411764705882 GridSearchCV\n",
      "0.9090909090909091 GridSearchCV\n",
      "0.9375 GaussianNB\n",
      "0.9375 VotingClassifier\n",
      "0.9666666666666667 LogisticRegression\n"
     ]
    }
   ],
   "source": [
    "index_ = np.argsort(rec)\n",
    "print(\"Recall scores:\")\n",
    "for i in index_:\n",
    "    print(rec[i],names[i])"
   ]
  },
  {
   "cell_type": "code",
   "execution_count": 617,
   "id": "ac01f5ba",
   "metadata": {},
   "outputs": [
    {
     "name": "stdout",
     "output_type": "stream",
     "text": [
      "Accuracy scores:\n",
      "0.8421052631578947 GridSearchCV\n",
      "0.9210526315789473 GridSearchCV\n",
      "0.9473684210526315 LogisticRegression\n",
      "0.9473684210526315 GaussianNB\n",
      "0.9473684210526315 VotingClassifier\n"
     ]
    }
   ],
   "source": [
    "index_ = np.argsort(acc)\n",
    "print(\"Accuracy scores:\")\n",
    "for i in index_:\n",
    "    print(acc[i],names[i])"
   ]
  },
  {
   "cell_type": "code",
   "execution_count": 618,
   "id": "0a5eedc0",
   "metadata": {},
   "outputs": [
    {
     "name": "stdout",
     "output_type": "stream",
     "text": [
      "F1 scores:\n",
      "0.90625 GridSearchCV\n",
      "0.9523809523809523 GridSearchCV\n",
      "0.9666666666666667 LogisticRegression\n",
      "0.967741935483871 GaussianNB\n",
      "0.967741935483871 VotingClassifier\n"
     ]
    }
   ],
   "source": [
    "index_ = np.argsort(f1)\n",
    "print(\"F1 scores:\")\n",
    "for i in index_:\n",
    "    print(f1[i],names[i])"
   ]
  },
  {
   "cell_type": "code",
   "execution_count": 620,
   "id": "fa4d7a40",
   "metadata": {},
   "outputs": [
    {
     "name": "stdout",
     "output_type": "stream",
     "text": [
      "AUC ROC scores:\n",
      "0.801470588235294 GridSearchCV\n",
      "0.9208333333333334 LogisticRegression\n",
      "0.9545454545454546 GridSearchCV\n",
      "0.96875 GaussianNB\n",
      "0.96875 VotingClassifier\n"
     ]
    }
   ],
   "source": [
    "index_ = np.argsort(auc)\n",
    "print(\"AUC ROC scores:\")\n",
    "for i in index_:\n",
    "    print(auc[i],names[i])"
   ]
  },
  {
   "cell_type": "code",
   "execution_count": 689,
   "id": "0f16aaa6",
   "metadata": {},
   "outputs": [
    {
     "data": {
      "image/png": "[encoded data removed]",
      "text/plain": [
       "<Figure size 1080x360 with 1 Axes>"
      ]
     },
     "metadata": {
      "needs_background": "light"
     },
     "output_type": "display_data"
    }
   ],
   "source": [
    "plt.plot([0,1], [0,1], linestyle='--', label='No Skill')\n",
    "for i in range(len(names)):\n",
    "    fpr, tpr, thresholds = roc_curve(test_result,model_list[i].predict_proba(test_data)[:,1])\n",
    "    \n",
    "    plt.plot(fpr, tpr, marker='.', label=names[i])\n",
    "    plt.legend(loc=\"lower right\")\n",
    "    plt.xlabel(\"False positive rate\")\n",
    "    plt.ylabel(\"True positive rate\")\n",
    "plt.show()"
   ]
  },
  {
   "cell_type": "markdown",
   "id": "d3d6f9e8",
   "metadata": {},
   "source": [
    "Judging off of these metrics and the ROC curve above, I would have to say the voting classifier is most successful with a strong case to be made for either the logistic regression or the Naive Bayes models. The voting classifier scored highest in all categories except recall, however as seen in the precision recall curves, one could tune this slightly. To speak on precision vs recall curves in the previous sections, there were so few false positives and false negatives that it did not seem worth playing with the threshold, but I note here that the threshold could be changed to get the same (or close) false positives as false negatives. \n",
    "\n",
    "This is mostly splitting hairs but utilizing the soft averaging of the voting algorithm if one were to expand this data set and the Naive Bayes and/or the logistic regression models begin to under perform on the training set, the benefits of the random forest interpolation power combined with the extrapolation of logistic regression can be used."
   ]
  },
  {
   "cell_type": "markdown",
   "id": "a9c39c97",
   "metadata": {},
   "source": [
    "With more time I would like to play a lot more with feature creation and elimination in my pipeline I created in the end of Section 1. It did not look like age was a big feature given that most were about 70 and the standard deviation was small, so I likely could have eliminated that feature. I would like to see more data (although I do not wish lung cancer on anyone) because I feel the 190 samples might be too few. I attempted to see if there were sampling bias with cross validation scores in the various model sections and it did not seem too egregious, but I would feel more comfortable with 10x the data as received. I would like to see MRI images of the tumors so one can estimate their surface area, volume, and other size metrics. One could provide image pixel info as trainin"
   ]
  },
  {
   "cell_type": "code",
   "execution_count": null,
   "id": "045a4b8a",
   "metadata": {},
   "outputs": [],
   "source": []
  }
 ],
 "metadata": {
  "kernelspec": {
   "display_name": "Python 3 (ipykernel)",
   "language": "python",
   "name": "python3"
  },
  "language_info": {
   "codemirror_mode": {
    "name": "ipython",
    "version": 3
   },
   "file_extension": ".py",
   "mimetype": "text/x-python",
   "name": "python",
   "nbconvert_exporter": "python",
   "pygments_lexer": "ipython3",
   "version": "3.8.9"
  },
  "toc": {
   "base_numbering": 1,
   "nav_menu": {},
   "number_sections": true,
   "sideBar": true,
   "skip_h1_title": false,
   "title_cell": "Table of Contents",
   "title_sidebar": "Contents",
   "toc_cell": false,
   "toc_position": {},
   "toc_section_display": true,
   "toc_window_display": true
  }
 },
 "nbformat": 4,
 "nbformat_minor": 5
}
