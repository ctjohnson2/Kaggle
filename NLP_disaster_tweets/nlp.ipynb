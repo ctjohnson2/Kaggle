{
 "cells": [
  {
   "cell_type": "code",
   "execution_count": 133,
   "id": "8e7ddaa7",
   "metadata": {},
   "outputs": [],
   "source": [
    "import numpy as np\n",
    "import pandas as pd\n",
    "from sklearn import feature_extraction, linear_model, model_selection, preprocessing\n",
    "import re\n",
    "from sklearn.pipeline import Pipeline\n",
    "from sklearn.preprocessing import StandardScaler\n",
    "from sklearn.compose import ColumnTransformer"
   ]
  },
  {
   "cell_type": "code",
   "execution_count": 138,
   "id": "2a26040f",
   "metadata": {},
   "outputs": [],
   "source": [
    "train_df = pd.read_csv(\"train.csv\")"
   ]
  },
  {
   "cell_type": "code",
   "execution_count": 7,
   "id": "7f0a53ec",
   "metadata": {},
   "outputs": [
    {
     "name": "stdout",
     "output_type": "stream",
     "text": [
      "<class 'pandas.core.frame.DataFrame'>\n",
      "RangeIndex: 7613 entries, 0 to 7612\n",
      "Data columns (total 5 columns):\n",
      " #   Column    Non-Null Count  Dtype \n",
      "---  ------    --------------  ----- \n",
      " 0   id        7613 non-null   int64 \n",
      " 1   keyword   7552 non-null   object\n",
      " 2   location  5080 non-null   object\n",
      " 3   text      7613 non-null   object\n",
      " 4   target    7613 non-null   int64 \n",
      "dtypes: int64(2), object(3)\n",
      "memory usage: 297.5+ KB\n"
     ]
    }
   ],
   "source": [
    "train_df.info()"
   ]
  },
  {
   "cell_type": "code",
   "execution_count": 8,
   "id": "711cd7bd",
   "metadata": {},
   "outputs": [
    {
     "data": {
      "text/plain": [
       "id             0\n",
       "keyword       61\n",
       "location    2533\n",
       "text           0\n",
       "target         0\n",
       "dtype: int64"
      ]
     },
     "execution_count": 8,
     "metadata": {},
     "output_type": "execute_result"
    }
   ],
   "source": [
    "train_df.isnull().sum()"
   ]
  },
  {
   "cell_type": "code",
   "execution_count": 96,
   "id": "8202fcb7",
   "metadata": {},
   "outputs": [
    {
     "data": {
      "text/html": [
       "<div>\n",
       "<style scoped>\n",
       "    .dataframe tbody tr th:only-of-type {\n",
       "        vertical-align: middle;\n",
       "    }\n",
       "\n",
       "    .dataframe tbody tr th {\n",
       "        vertical-align: top;\n",
       "    }\n",
       "\n",
       "    .dataframe thead th {\n",
       "        text-align: right;\n",
       "    }\n",
       "</style>\n",
       "<table border=\"1\" class=\"dataframe\">\n",
       "  <thead>\n",
       "    <tr style=\"text-align: right;\">\n",
       "      <th></th>\n",
       "      <th>id</th>\n",
       "      <th>keyword</th>\n",
       "      <th>location</th>\n",
       "      <th>text</th>\n",
       "      <th>target</th>\n",
       "    </tr>\n",
       "  </thead>\n",
       "  <tbody>\n",
       "    <tr>\n",
       "      <th>0</th>\n",
       "      <td>1</td>\n",
       "      <td>NaN</td>\n",
       "      <td>NaN</td>\n",
       "      <td>Our Deeds are the Reason of this #earthquake M...</td>\n",
       "      <td>1</td>\n",
       "    </tr>\n",
       "    <tr>\n",
       "      <th>1</th>\n",
       "      <td>4</td>\n",
       "      <td>NaN</td>\n",
       "      <td>NaN</td>\n",
       "      <td>Forest fire near La Ronge Sask. Canada</td>\n",
       "      <td>1</td>\n",
       "    </tr>\n",
       "    <tr>\n",
       "      <th>2</th>\n",
       "      <td>5</td>\n",
       "      <td>NaN</td>\n",
       "      <td>NaN</td>\n",
       "      <td>All residents asked to 'shelter in place' are ...</td>\n",
       "      <td>1</td>\n",
       "    </tr>\n",
       "    <tr>\n",
       "      <th>3</th>\n",
       "      <td>6</td>\n",
       "      <td>NaN</td>\n",
       "      <td>NaN</td>\n",
       "      <td>13,000 people receive #wildfires evacuation or...</td>\n",
       "      <td>1</td>\n",
       "    </tr>\n",
       "    <tr>\n",
       "      <th>4</th>\n",
       "      <td>7</td>\n",
       "      <td>NaN</td>\n",
       "      <td>NaN</td>\n",
       "      <td>Just got sent this photo from Ruby #Alaska as ...</td>\n",
       "      <td>1</td>\n",
       "    </tr>\n",
       "    <tr>\n",
       "      <th>...</th>\n",
       "      <td>...</td>\n",
       "      <td>...</td>\n",
       "      <td>...</td>\n",
       "      <td>...</td>\n",
       "      <td>...</td>\n",
       "    </tr>\n",
       "    <tr>\n",
       "      <th>95</th>\n",
       "      <td>137</td>\n",
       "      <td>accident</td>\n",
       "      <td>Charlotte</td>\n",
       "      <td>9 Mile backup on I-77 South...accident blockin...</td>\n",
       "      <td>1</td>\n",
       "    </tr>\n",
       "    <tr>\n",
       "      <th>96</th>\n",
       "      <td>138</td>\n",
       "      <td>accident</td>\n",
       "      <td>Baton Rouge, LA</td>\n",
       "      <td>Has an accident changed your life? We will hel...</td>\n",
       "      <td>0</td>\n",
       "    </tr>\n",
       "    <tr>\n",
       "      <th>97</th>\n",
       "      <td>139</td>\n",
       "      <td>accident</td>\n",
       "      <td>Hagerstown, MD</td>\n",
       "      <td>#BREAKING: there was a deadly motorcycle car a...</td>\n",
       "      <td>1</td>\n",
       "    </tr>\n",
       "    <tr>\n",
       "      <th>98</th>\n",
       "      <td>141</td>\n",
       "      <td>accident</td>\n",
       "      <td>Gloucestershire , UK</td>\n",
       "      <td>@flowri were you marinading it or was it an ac...</td>\n",
       "      <td>0</td>\n",
       "    </tr>\n",
       "    <tr>\n",
       "      <th>99</th>\n",
       "      <td>143</td>\n",
       "      <td>accident</td>\n",
       "      <td>NaN</td>\n",
       "      <td>only had a car for not even a week and got in ...</td>\n",
       "      <td>1</td>\n",
       "    </tr>\n",
       "  </tbody>\n",
       "</table>\n",
       "<p>100 rows × 5 columns</p>\n",
       "</div>"
      ],
      "text/plain": [
       "     id   keyword              location  \\\n",
       "0     1       NaN                   NaN   \n",
       "1     4       NaN                   NaN   \n",
       "2     5       NaN                   NaN   \n",
       "3     6       NaN                   NaN   \n",
       "4     7       NaN                   NaN   \n",
       "..  ...       ...                   ...   \n",
       "95  137  accident             Charlotte   \n",
       "96  138  accident       Baton Rouge, LA   \n",
       "97  139  accident        Hagerstown, MD   \n",
       "98  141  accident  Gloucestershire , UK   \n",
       "99  143  accident                   NaN   \n",
       "\n",
       "                                                 text  target  \n",
       "0   Our Deeds are the Reason of this #earthquake M...       1  \n",
       "1              Forest fire near La Ronge Sask. Canada       1  \n",
       "2   All residents asked to 'shelter in place' are ...       1  \n",
       "3   13,000 people receive #wildfires evacuation or...       1  \n",
       "4   Just got sent this photo from Ruby #Alaska as ...       1  \n",
       "..                                                ...     ...  \n",
       "95  9 Mile backup on I-77 South...accident blockin...       1  \n",
       "96  Has an accident changed your life? We will hel...       0  \n",
       "97  #BREAKING: there was a deadly motorcycle car a...       1  \n",
       "98  @flowri were you marinading it or was it an ac...       0  \n",
       "99  only had a car for not even a week and got in ...       1  \n",
       "\n",
       "[100 rows x 5 columns]"
      ]
     },
     "execution_count": 96,
     "metadata": {},
     "output_type": "execute_result"
    }
   ],
   "source": [
    "train_df[:100]"
   ]
  },
  {
   "cell_type": "code",
   "execution_count": 27,
   "id": "ce3f928a",
   "metadata": {},
   "outputs": [
    {
     "name": "stdout",
     "output_type": "stream",
     "text": [
      "Disaster total= 3271\n",
      "non disaster total= 4342\n"
     ]
    }
   ],
   "source": [
    "print(\"Disaster total=\",train_df[train_df[\"target\"]==1][\"target\"].count())\n",
    "print(\"non disaster total=\",train_df[train_df[\"target\"]==0][\"target\"].count())"
   ]
  },
  {
   "cell_type": "code",
   "execution_count": 31,
   "id": "7c900337",
   "metadata": {},
   "outputs": [],
   "source": [
    "keywords = train_df[\"keyword\"].unique()    "
   ]
  },
  {
   "cell_type": "code",
   "execution_count": 32,
   "id": "86821d27",
   "metadata": {},
   "outputs": [
    {
     "data": {
      "text/plain": [
       "array([nan, 'ablaze', 'accident', 'aftershock', 'airplane%20accident',\n",
       "       'ambulance', 'annihilated', 'annihilation', 'apocalypse',\n",
       "       'armageddon', 'army', 'arson', 'arsonist', 'attack', 'attacked',\n",
       "       'avalanche', 'battle', 'bioterror', 'bioterrorism', 'blaze',\n",
       "       'blazing', 'bleeding', 'blew%20up', 'blight', 'blizzard', 'blood',\n",
       "       'bloody', 'blown%20up', 'body%20bag', 'body%20bagging',\n",
       "       'body%20bags', 'bomb', 'bombed', 'bombing', 'bridge%20collapse',\n",
       "       'buildings%20burning', 'buildings%20on%20fire', 'burned',\n",
       "       'burning', 'burning%20buildings', 'bush%20fires', 'casualties',\n",
       "       'casualty', 'catastrophe', 'catastrophic', 'chemical%20emergency',\n",
       "       'cliff%20fall', 'collapse', 'collapsed', 'collide', 'collided',\n",
       "       'collision', 'crash', 'crashed', 'crush', 'crushed', 'curfew',\n",
       "       'cyclone', 'damage', 'danger', 'dead', 'death', 'deaths', 'debris',\n",
       "       'deluge', 'deluged', 'demolish', 'demolished', 'demolition',\n",
       "       'derail', 'derailed', 'derailment', 'desolate', 'desolation',\n",
       "       'destroy', 'destroyed', 'destruction', 'detonate', 'detonation',\n",
       "       'devastated', 'devastation', 'disaster', 'displaced', 'drought',\n",
       "       'drown', 'drowned', 'drowning', 'dust%20storm', 'earthquake',\n",
       "       'electrocute', 'electrocuted', 'emergency', 'emergency%20plan',\n",
       "       'emergency%20services', 'engulfed', 'epicentre', 'evacuate',\n",
       "       'evacuated', 'evacuation', 'explode', 'exploded', 'explosion',\n",
       "       'eyewitness', 'famine', 'fatal', 'fatalities', 'fatality', 'fear',\n",
       "       'fire', 'fire%20truck', 'first%20responders', 'flames',\n",
       "       'flattened', 'flood', 'flooding', 'floods', 'forest%20fire',\n",
       "       'forest%20fires', 'hail', 'hailstorm', 'harm', 'hazard',\n",
       "       'hazardous', 'heat%20wave', 'hellfire', 'hijack', 'hijacker',\n",
       "       'hijacking', 'hostage', 'hostages', 'hurricane', 'injured',\n",
       "       'injuries', 'injury', 'inundated', 'inundation', 'landslide',\n",
       "       'lava', 'lightning', 'loud%20bang', 'mass%20murder',\n",
       "       'mass%20murderer', 'massacre', 'mayhem', 'meltdown', 'military',\n",
       "       'mudslide', 'natural%20disaster', 'nuclear%20disaster',\n",
       "       'nuclear%20reactor', 'obliterate', 'obliterated', 'obliteration',\n",
       "       'oil%20spill', 'outbreak', 'pandemonium', 'panic', 'panicking',\n",
       "       'police', 'quarantine', 'quarantined', 'radiation%20emergency',\n",
       "       'rainstorm', 'razed', 'refugees', 'rescue', 'rescued', 'rescuers',\n",
       "       'riot', 'rioting', 'rubble', 'ruin', 'sandstorm', 'screamed',\n",
       "       'screaming', 'screams', 'seismic', 'sinkhole', 'sinking', 'siren',\n",
       "       'sirens', 'smoke', 'snowstorm', 'storm', 'stretcher',\n",
       "       'structural%20failure', 'suicide%20bomb', 'suicide%20bomber',\n",
       "       'suicide%20bombing', 'sunk', 'survive', 'survived', 'survivors',\n",
       "       'terrorism', 'terrorist', 'threat', 'thunder', 'thunderstorm',\n",
       "       'tornado', 'tragedy', 'trapped', 'trauma', 'traumatised',\n",
       "       'trouble', 'tsunami', 'twister', 'typhoon', 'upheaval',\n",
       "       'violent%20storm', 'volcano', 'war%20zone', 'weapon', 'weapons',\n",
       "       'whirlwind', 'wild%20fires', 'wildfire', 'windstorm', 'wounded',\n",
       "       'wounds', 'wreck', 'wreckage', 'wrecked'], dtype=object)"
      ]
     },
     "execution_count": 32,
     "metadata": {},
     "output_type": "execute_result"
    }
   ],
   "source": [
    "keywords"
   ]
  },
  {
   "cell_type": "code",
   "execution_count": 34,
   "id": "c41cd144",
   "metadata": {},
   "outputs": [],
   "source": [
    "keyword_text = train_df[train_df[\"keyword\"].notna()][[\"keyword\", \"text\"]]"
   ]
  },
  {
   "cell_type": "code",
   "execution_count": 35,
   "id": "05a6dd50",
   "metadata": {},
   "outputs": [
    {
     "data": {
      "text/html": [
       "<div>\n",
       "<style scoped>\n",
       "    .dataframe tbody tr th:only-of-type {\n",
       "        vertical-align: middle;\n",
       "    }\n",
       "\n",
       "    .dataframe tbody tr th {\n",
       "        vertical-align: top;\n",
       "    }\n",
       "\n",
       "    .dataframe thead th {\n",
       "        text-align: right;\n",
       "    }\n",
       "</style>\n",
       "<table border=\"1\" class=\"dataframe\">\n",
       "  <thead>\n",
       "    <tr style=\"text-align: right;\">\n",
       "      <th></th>\n",
       "      <th>keyword</th>\n",
       "      <th>text</th>\n",
       "    </tr>\n",
       "  </thead>\n",
       "  <tbody>\n",
       "    <tr>\n",
       "      <th>31</th>\n",
       "      <td>ablaze</td>\n",
       "      <td>@bbcmtd Wholesale Markets ablaze http://t.co/l...</td>\n",
       "    </tr>\n",
       "    <tr>\n",
       "      <th>32</th>\n",
       "      <td>ablaze</td>\n",
       "      <td>We always try to bring the heavy. #metal #RT h...</td>\n",
       "    </tr>\n",
       "    <tr>\n",
       "      <th>33</th>\n",
       "      <td>ablaze</td>\n",
       "      <td>#AFRICANBAZE: Breaking news:Nigeria flag set a...</td>\n",
       "    </tr>\n",
       "    <tr>\n",
       "      <th>34</th>\n",
       "      <td>ablaze</td>\n",
       "      <td>Crying out for more! Set me ablaze</td>\n",
       "    </tr>\n",
       "    <tr>\n",
       "      <th>35</th>\n",
       "      <td>ablaze</td>\n",
       "      <td>On plus side LOOK AT THE SKY LAST NIGHT IT WAS...</td>\n",
       "    </tr>\n",
       "    <tr>\n",
       "      <th>...</th>\n",
       "      <td>...</td>\n",
       "      <td>...</td>\n",
       "    </tr>\n",
       "    <tr>\n",
       "      <th>7578</th>\n",
       "      <td>wrecked</td>\n",
       "      <td>@jt_ruff23 @cameronhacker and I wrecked you both</td>\n",
       "    </tr>\n",
       "    <tr>\n",
       "      <th>7579</th>\n",
       "      <td>wrecked</td>\n",
       "      <td>Three days off from work and they've pretty mu...</td>\n",
       "    </tr>\n",
       "    <tr>\n",
       "      <th>7580</th>\n",
       "      <td>wrecked</td>\n",
       "      <td>#FX #forex #trading Cramer: Iger's 3 words tha...</td>\n",
       "    </tr>\n",
       "    <tr>\n",
       "      <th>7581</th>\n",
       "      <td>wrecked</td>\n",
       "      <td>@engineshed Great atmosphere at the British Li...</td>\n",
       "    </tr>\n",
       "    <tr>\n",
       "      <th>7582</th>\n",
       "      <td>wrecked</td>\n",
       "      <td>Cramer: Iger's 3 words that wrecked Disney's s...</td>\n",
       "    </tr>\n",
       "  </tbody>\n",
       "</table>\n",
       "<p>7552 rows × 2 columns</p>\n",
       "</div>"
      ],
      "text/plain": [
       "      keyword                                               text\n",
       "31     ablaze  @bbcmtd Wholesale Markets ablaze http://t.co/l...\n",
       "32     ablaze  We always try to bring the heavy. #metal #RT h...\n",
       "33     ablaze  #AFRICANBAZE: Breaking news:Nigeria flag set a...\n",
       "34     ablaze                 Crying out for more! Set me ablaze\n",
       "35     ablaze  On plus side LOOK AT THE SKY LAST NIGHT IT WAS...\n",
       "...       ...                                                ...\n",
       "7578  wrecked   @jt_ruff23 @cameronhacker and I wrecked you both\n",
       "7579  wrecked  Three days off from work and they've pretty mu...\n",
       "7580  wrecked  #FX #forex #trading Cramer: Iger's 3 words tha...\n",
       "7581  wrecked  @engineshed Great atmosphere at the British Li...\n",
       "7582  wrecked  Cramer: Iger's 3 words that wrecked Disney's s...\n",
       "\n",
       "[7552 rows x 2 columns]"
      ]
     },
     "execution_count": 35,
     "metadata": {},
     "output_type": "execute_result"
    }
   ],
   "source": [
    "keyword_text"
   ]
  },
  {
   "cell_type": "code",
   "execution_count": 139,
   "id": "c9930956",
   "metadata": {},
   "outputs": [],
   "source": [
    "null_keyword_texts = train_df[train_df[\"keyword\"].isnull()][\"text\"]"
   ]
  },
  {
   "cell_type": "code",
   "execution_count": 140,
   "id": "e910aa87",
   "metadata": {},
   "outputs": [
    {
     "name": "stderr",
     "output_type": "stream",
     "text": [
      "/var/folders/zh/dvg4994d0_v8dpj_6tb0y44r0000gn/T/ipykernel_51693/4163110282.py:5: SettingWithCopyWarning: \n",
      "A value is trying to be set on a copy of a slice from a DataFrame\n",
      "\n",
      "See the caveats in the documentation: https://pandas.pydata.org/pandas-docs/stable/user_guide/indexing.html#returning-a-view-versus-a-copy\n",
      "  train_df[\"keyword\"].loc[i] = word\n"
     ]
    }
   ],
   "source": [
    "for i in range(len(train_df)):\n",
    "    if str(train_df[\"keyword\"].iloc[i]) == \"nan\":\n",
    "        for word in keywords[1:]:\n",
    "            if train_df[\"text\"].loc[i].count(word)>=1:\n",
    "                train_df[\"keyword\"].loc[i] = word\n",
    "            "
   ]
  },
  {
   "cell_type": "code",
   "execution_count": 102,
   "id": "5c6d64ff",
   "metadata": {},
   "outputs": [
    {
     "data": {
      "text/plain": [
       "id             0\n",
       "keyword        0\n",
       "location    2533\n",
       "text           0\n",
       "target         0\n",
       "dtype: int64"
      ]
     },
     "execution_count": 102,
     "metadata": {},
     "output_type": "execute_result"
    }
   ],
   "source": [
    "train_df.isnull().sum()"
   ]
  },
  {
   "cell_type": "code",
   "execution_count": 141,
   "id": "1ce5b8b7",
   "metadata": {},
   "outputs": [
    {
     "name": "stderr",
     "output_type": "stream",
     "text": [
      "/var/folders/zh/dvg4994d0_v8dpj_6tb0y44r0000gn/T/ipykernel_51693/3430923347.py:3: SettingWithCopyWarning: \n",
      "A value is trying to be set on a copy of a slice from a DataFrame\n",
      "\n",
      "See the caveats in the documentation: https://pandas.pydata.org/pandas-docs/stable/user_guide/indexing.html#returning-a-view-versus-a-copy\n",
      "  train_df[\"keyword\"].loc[i] = \"blarg\"\n"
     ]
    }
   ],
   "source": [
    "for i in range(len(train_df)):\n",
    "    if str(train_df[\"keyword\"].iloc[i]) == \"nan\":\n",
    "        train_df[\"keyword\"].loc[i] = \"blarg\""
   ]
  },
  {
   "cell_type": "code",
   "execution_count": 142,
   "id": "83b4185b",
   "metadata": {},
   "outputs": [
    {
     "data": {
      "text/plain": [
       "fatalities               45\n",
       "armageddon               42\n",
       "fire                     42\n",
       "deluge                   42\n",
       "earthquake               41\n",
       "                         ..\n",
       "forest%20fire            19\n",
       "epicentre                12\n",
       "threat                   12\n",
       "inundation               10\n",
       "radiation%20emergency     9\n",
       "Name: keyword, Length: 222, dtype: int64"
      ]
     },
     "execution_count": 142,
     "metadata": {},
     "output_type": "execute_result"
    }
   ],
   "source": [
    "train_df[\"keyword\"].value_counts()"
   ]
  },
  {
   "cell_type": "code",
   "execution_count": 143,
   "id": "b1bf1d62",
   "metadata": {},
   "outputs": [
    {
     "name": "stderr",
     "output_type": "stream",
     "text": [
      "/var/folders/zh/dvg4994d0_v8dpj_6tb0y44r0000gn/T/ipykernel_51693/2740022522.py:3: SettingWithCopyWarning: \n",
      "A value is trying to be set on a copy of a slice from a DataFrame\n",
      "\n",
      "See the caveats in the documentation: https://pandas.pydata.org/pandas-docs/stable/user_guide/indexing.html#returning-a-view-versus-a-copy\n",
      "  train_df[\"keyword\"].loc[i] = train_df[\"keyword\"].loc[i][:-1]\n"
     ]
    }
   ],
   "source": [
    "for i in range(len(train_df)):\n",
    "    if train_df[\"keyword\"].loc[i][-1] == \"s\" and train_df[\"keyword\"].loc[i][-2] not in [\"s\",\"a\",\"e\",\"i\",\"o\",\"u\"]:\n",
    "        train_df[\"keyword\"].loc[i] = train_df[\"keyword\"].loc[i][:-1]"
   ]
  },
  {
   "cell_type": "code",
   "execution_count": 144,
   "id": "97506341",
   "metadata": {},
   "outputs": [
    {
     "data": {
      "text/plain": [
       "weapon                   78\n",
       "death                    74\n",
       "body%20bag               74\n",
       "flood                    71\n",
       "siren                    69\n",
       "                         ..\n",
       "forest%20fire            19\n",
       "threat                   12\n",
       "epicentre                12\n",
       "inundation               10\n",
       "radiation%20emergency     9\n",
       "Name: keyword, Length: 217, dtype: int64"
      ]
     },
     "execution_count": 144,
     "metadata": {},
     "output_type": "execute_result"
    }
   ],
   "source": [
    "train_df[\"keyword\"].value_counts()"
   ]
  },
  {
   "cell_type": "code",
   "execution_count": 80,
   "id": "3c515373",
   "metadata": {},
   "outputs": [],
   "source": [
    "chars = [\"!\", \"#\", \",\", \".\", \":\", \";\", \"?\", \"-\", \"~\", \")\", \"(\", \"=\", \">\", \"<\", \"/\"]"
   ]
  },
  {
   "cell_type": "code",
   "execution_count": 106,
   "id": "921ead0f",
   "metadata": {},
   "outputs": [],
   "source": [
    "text_no_special = []\n",
    "for i in range(len(train_df)):\n",
    "    text = train_df[\"text\"].loc[i]\n",
    "    text = text.lower()\n",
    "\n",
    "    #Removing the @user\n",
    "    text = re.sub(r'@[^\\s]+', '', text)\n",
    "\n",
    "    #Removing the links\n",
    "    text = re.sub(r'http:\\S+', '', text)\n",
    "    text = re.sub(r'https:\\S+', '', text)\n",
    "\n",
    "    #Removing non ASCII characters\n",
    "    text = re.sub(r'[^\\x00-\\x7F]+', '', text)\n",
    "    for letter in text:\n",
    "        if letter in chars:\n",
    "            c+=1\n",
    "            text = text.replace(letter,\"\")\n",
    "            \n",
    "    #if c>=1:\n",
    "    #    print(text)\n",
    "    #    print(train_df[\"text\"].loc[i])\n",
    "    text_no_special.append(text)\n",
    "\n",
    "    "
   ]
  },
  {
   "cell_type": "code",
   "execution_count": 145,
   "id": "57b74559",
   "metadata": {},
   "outputs": [],
   "source": [
    "train_df[\"text_no_special\"] = text_no_special"
   ]
  },
  {
   "cell_type": "code",
   "execution_count": 119,
   "id": "b095024b",
   "metadata": {},
   "outputs": [],
   "source": [
    "def char_in_text_plot(char,df):\n",
    "    count_fine, count_disaster=0,0\n",
    "    for i in range(len(df[\"text\"])):\n",
    "        text = df[\"text\"].loc[i]\n",
    "        if char in text:\n",
    "            if df[\"target\"].loc[i] ==0:\n",
    "                count_fine+=1\n",
    "            else:\n",
    "                count_disaster +=1\n",
    "    if (count_fine+count_disaster) > 1:\n",
    "        return count_fine/(count_fine+count_disaster),count_disaster/(count_fine+count_disaster),count_fine+count_disaster\n",
    "    else:\n",
    "        return 0,0,0"
   ]
  },
  {
   "cell_type": "code",
   "execution_count": 120,
   "id": "c929a1ca",
   "metadata": {},
   "outputs": [
    {
     "name": "stdout",
     "output_type": "stream",
     "text": [
      "! : fine=  0.7273991655076495 disaster=  0.2726008344923505 total= 719\n",
      "**************************\n",
      "# : fine=  0.5031232254400908 disaster=  0.49687677455990914 total= 1761\n",
      "**************************\n",
      ", : fine=  0.0 disaster=  1.0 total= 2\n",
      "**************************\n",
      ". : fine=  0.5125044029587883 disaster=  0.4874955970412117 total= 5678\n",
      "**************************\n",
      ": : fine=  0.4613793103448276 disaster=  0.5386206896551724 total= 4350\n",
      "**************************\n",
      "; : fine=  0.5698198198198198 disaster=  0.43018018018018017 total= 444\n",
      "**************************\n",
      "? : fine=  0.7197696737044146 disaster=  0.2802303262955854 total= 1042\n",
      "**************************\n",
      "- : fine=  0.4694035631293571 disaster=  0.530596436870643 total= 1291\n",
      "**************************\n",
      "~ : fine=  0.4444444444444444 disaster=  0.5555555555555556 total= 27\n",
      "**************************\n",
      ") : fine=  0.6151603498542274 disaster=  0.3848396501457726 total= 343\n",
      "**************************\n",
      "( : fine=  0.6024464831804281 disaster=  0.39755351681957185 total= 327\n",
      "**************************\n",
      "= : fine=  0.5897435897435898 disaster=  0.41025641025641024 total= 39\n",
      "**************************\n",
      "> : fine=  0 disaster=  0 total= 0\n",
      "**************************\n",
      "< : fine=  0 disaster=  0 total= 0\n",
      "**************************\n",
      "/ : fine=  0.4556500607533414 disaster=  0.5443499392466585 total= 4115\n",
      "**************************\n"
     ]
    }
   ],
   "source": [
    "for char in chars:\n",
    "    fine, disaster, total = char_in_text_plot(char,train_df)\n",
    "    print(char,\":\",\"fine= \",fine,\"disaster= \",disaster,\"total=\",total)\n",
    "    print(\"**************************\")"
   ]
  },
  {
   "cell_type": "code",
   "execution_count": 121,
   "id": "ae9332d8",
   "metadata": {},
   "outputs": [],
   "source": [
    "sig_chars = [\"?\",\"!\"]"
   ]
  },
  {
   "cell_type": "code",
   "execution_count": 126,
   "id": "90a3b34a",
   "metadata": {},
   "outputs": [],
   "source": [
    "sig_chars_enc = []\n",
    "for text in train_df[\"text\"]:\n",
    "    c = 0\n",
    "    for char in sig_chars:\n",
    "        c+=text.count(char)\n",
    "    sig_chars_enc.append(c)\n",
    "            "
   ]
  },
  {
   "cell_type": "code",
   "execution_count": 146,
   "id": "18f2af49",
   "metadata": {},
   "outputs": [],
   "source": [
    "train_df[\"sig_chars\"] = sig_chars_enc"
   ]
  },
  {
   "cell_type": "code",
   "execution_count": 147,
   "id": "e47fbf3b",
   "metadata": {},
   "outputs": [
    {
     "data": {
      "text/html": [
       "<div>\n",
       "<style scoped>\n",
       "    .dataframe tbody tr th:only-of-type {\n",
       "        vertical-align: middle;\n",
       "    }\n",
       "\n",
       "    .dataframe tbody tr th {\n",
       "        vertical-align: top;\n",
       "    }\n",
       "\n",
       "    .dataframe thead th {\n",
       "        text-align: right;\n",
       "    }\n",
       "</style>\n",
       "<table border=\"1\" class=\"dataframe\">\n",
       "  <thead>\n",
       "    <tr style=\"text-align: right;\">\n",
       "      <th></th>\n",
       "      <th>id</th>\n",
       "      <th>keyword</th>\n",
       "      <th>location</th>\n",
       "      <th>text</th>\n",
       "      <th>target</th>\n",
       "      <th>text_no_special</th>\n",
       "      <th>sig_chars</th>\n",
       "    </tr>\n",
       "  </thead>\n",
       "  <tbody>\n",
       "    <tr>\n",
       "      <th>0</th>\n",
       "      <td>1</td>\n",
       "      <td>earthquake</td>\n",
       "      <td>NaN</td>\n",
       "      <td>Our Deeds are the Reason of this #earthquake M...</td>\n",
       "      <td>1</td>\n",
       "      <td>our deeds are the reason of this earthquake ma...</td>\n",
       "      <td>0</td>\n",
       "    </tr>\n",
       "    <tr>\n",
       "      <th>1</th>\n",
       "      <td>4</td>\n",
       "      <td>fire</td>\n",
       "      <td>NaN</td>\n",
       "      <td>Forest fire near La Ronge Sask. Canada</td>\n",
       "      <td>1</td>\n",
       "      <td>forest fire near la ronge sask canada</td>\n",
       "      <td>0</td>\n",
       "    </tr>\n",
       "    <tr>\n",
       "      <th>2</th>\n",
       "      <td>5</td>\n",
       "      <td>evacuation</td>\n",
       "      <td>NaN</td>\n",
       "      <td>All residents asked to 'shelter in place' are ...</td>\n",
       "      <td>1</td>\n",
       "      <td>all residents asked to 'shelter in place' are ...</td>\n",
       "      <td>0</td>\n",
       "    </tr>\n",
       "    <tr>\n",
       "      <th>3</th>\n",
       "      <td>6</td>\n",
       "      <td>wildfire</td>\n",
       "      <td>NaN</td>\n",
       "      <td>13,000 people receive #wildfires evacuation or...</td>\n",
       "      <td>1</td>\n",
       "      <td>13000 people receive wildfires evacuation orde...</td>\n",
       "      <td>0</td>\n",
       "    </tr>\n",
       "    <tr>\n",
       "      <th>4</th>\n",
       "      <td>7</td>\n",
       "      <td>wildfire</td>\n",
       "      <td>NaN</td>\n",
       "      <td>Just got sent this photo from Ruby #Alaska as ...</td>\n",
       "      <td>1</td>\n",
       "      <td>just got sent this photo from ruby alaska as s...</td>\n",
       "      <td>0</td>\n",
       "    </tr>\n",
       "    <tr>\n",
       "      <th>...</th>\n",
       "      <td>...</td>\n",
       "      <td>...</td>\n",
       "      <td>...</td>\n",
       "      <td>...</td>\n",
       "      <td>...</td>\n",
       "      <td>...</td>\n",
       "      <td>...</td>\n",
       "    </tr>\n",
       "    <tr>\n",
       "      <th>7608</th>\n",
       "      <td>10869</td>\n",
       "      <td>collapse</td>\n",
       "      <td>NaN</td>\n",
       "      <td>Two giant cranes holding a bridge collapse int...</td>\n",
       "      <td>1</td>\n",
       "      <td>two giant cranes holding a bridge collapse int...</td>\n",
       "      <td>0</td>\n",
       "    </tr>\n",
       "    <tr>\n",
       "      <th>7609</th>\n",
       "      <td>10870</td>\n",
       "      <td>fire</td>\n",
       "      <td>NaN</td>\n",
       "      <td>@aria_ahrary @TheTawniest The out of control w...</td>\n",
       "      <td>1</td>\n",
       "      <td>the out of control wild fires in california ...</td>\n",
       "      <td>0</td>\n",
       "    </tr>\n",
       "    <tr>\n",
       "      <th>7610</th>\n",
       "      <td>10871</td>\n",
       "      <td>blarg</td>\n",
       "      <td>NaN</td>\n",
       "      <td>M1.94 [01:04 UTC]?5km S of Volcano Hawaii. htt...</td>\n",
       "      <td>1</td>\n",
       "      <td>m194 [0104 utc]5km s of volcano hawaii</td>\n",
       "      <td>1</td>\n",
       "    </tr>\n",
       "    <tr>\n",
       "      <th>7611</th>\n",
       "      <td>10872</td>\n",
       "      <td>threat</td>\n",
       "      <td>NaN</td>\n",
       "      <td>Police investigating after an e-bike collided ...</td>\n",
       "      <td>1</td>\n",
       "      <td>police investigating after an ebike collided w...</td>\n",
       "      <td>0</td>\n",
       "    </tr>\n",
       "    <tr>\n",
       "      <th>7612</th>\n",
       "      <td>10873</td>\n",
       "      <td>fire</td>\n",
       "      <td>NaN</td>\n",
       "      <td>The Latest: More Homes Razed by Northern Calif...</td>\n",
       "      <td>1</td>\n",
       "      <td>the latest more homes razed by northern califo...</td>\n",
       "      <td>0</td>\n",
       "    </tr>\n",
       "  </tbody>\n",
       "</table>\n",
       "<p>7613 rows × 7 columns</p>\n",
       "</div>"
      ],
      "text/plain": [
       "         id     keyword location  \\\n",
       "0         1  earthquake      NaN   \n",
       "1         4        fire      NaN   \n",
       "2         5  evacuation      NaN   \n",
       "3         6    wildfire      NaN   \n",
       "4         7    wildfire      NaN   \n",
       "...     ...         ...      ...   \n",
       "7608  10869    collapse      NaN   \n",
       "7609  10870        fire      NaN   \n",
       "7610  10871       blarg      NaN   \n",
       "7611  10872      threat      NaN   \n",
       "7612  10873        fire      NaN   \n",
       "\n",
       "                                                   text  target  \\\n",
       "0     Our Deeds are the Reason of this #earthquake M...       1   \n",
       "1                Forest fire near La Ronge Sask. Canada       1   \n",
       "2     All residents asked to 'shelter in place' are ...       1   \n",
       "3     13,000 people receive #wildfires evacuation or...       1   \n",
       "4     Just got sent this photo from Ruby #Alaska as ...       1   \n",
       "...                                                 ...     ...   \n",
       "7608  Two giant cranes holding a bridge collapse int...       1   \n",
       "7609  @aria_ahrary @TheTawniest The out of control w...       1   \n",
       "7610  M1.94 [01:04 UTC]?5km S of Volcano Hawaii. htt...       1   \n",
       "7611  Police investigating after an e-bike collided ...       1   \n",
       "7612  The Latest: More Homes Razed by Northern Calif...       1   \n",
       "\n",
       "                                        text_no_special  sig_chars  \n",
       "0     our deeds are the reason of this earthquake ma...          0  \n",
       "1                 forest fire near la ronge sask canada          0  \n",
       "2     all residents asked to 'shelter in place' are ...          0  \n",
       "3     13000 people receive wildfires evacuation orde...          0  \n",
       "4     just got sent this photo from ruby alaska as s...          0  \n",
       "...                                                 ...        ...  \n",
       "7608  two giant cranes holding a bridge collapse int...          0  \n",
       "7609    the out of control wild fires in california ...          0  \n",
       "7610            m194 [0104 utc]5km s of volcano hawaii           1  \n",
       "7611  police investigating after an ebike collided w...          0  \n",
       "7612  the latest more homes razed by northern califo...          0  \n",
       "\n",
       "[7613 rows x 7 columns]"
      ]
     },
     "execution_count": 147,
     "metadata": {},
     "output_type": "execute_result"
    }
   ],
   "source": [
    "train_df"
   ]
  },
  {
   "cell_type": "code",
   "execution_count": 148,
   "id": "d7f62e83",
   "metadata": {},
   "outputs": [],
   "source": [
    "train_df[\"location\"] = train_df[\"location\"].fillna(value=-1)"
   ]
  },
  {
   "cell_type": "code",
   "execution_count": 154,
   "id": "154dcb96",
   "metadata": {},
   "outputs": [],
   "source": [
    "drop = [\"id\",\"location\",\"text\",\"target\",\"text_no_special\"]\n",
    "count = [\"text_no_special\"]"
   ]
  },
  {
   "cell_type": "code",
   "execution_count": 129,
   "id": "4130242f",
   "metadata": {},
   "outputs": [],
   "source": [
    "count_vectorizer = feature_extraction.text.CountVectorizer()"
   ]
  },
  {
   "cell_type": "code",
   "execution_count": 163,
   "id": "6e2d2544",
   "metadata": {},
   "outputs": [],
   "source": [
    "text_trans=count_vectorizer.fit_transform(train_df[\"text_no_special\"]).todense()"
   ]
  },
  {
   "cell_type": "code",
   "execution_count": null,
   "id": "5c82b90f",
   "metadata": {},
   "outputs": [],
   "source": []
  }
 ],
 "metadata": {
  "kernelspec": {
   "display_name": "Python 3 (ipykernel)",
   "language": "python",
   "name": "python3"
  },
  "language_info": {
   "codemirror_mode": {
    "name": "ipython",
    "version": 3
   },
   "file_extension": ".py",
   "mimetype": "text/x-python",
   "name": "python",
   "nbconvert_exporter": "python",
   "pygments_lexer": "ipython3",
   "version": "3.8.9"
  },
  "toc": {
   "base_numbering": 1,
   "nav_menu": {},
   "number_sections": true,
   "sideBar": true,
   "skip_h1_title": false,
   "title_cell": "Table of Contents",
   "title_sidebar": "Contents",
   "toc_cell": false,
   "toc_position": {},
   "toc_section_display": true,
   "toc_window_display": false
  }
 },
 "nbformat": 4,
 "nbformat_minor": 5
}
